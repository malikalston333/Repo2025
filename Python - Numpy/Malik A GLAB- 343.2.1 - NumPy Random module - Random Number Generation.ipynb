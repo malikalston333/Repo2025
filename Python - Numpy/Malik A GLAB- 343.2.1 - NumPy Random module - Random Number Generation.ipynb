{
 "cells": [
  {
   "cell_type": "markdown",
   "id": "69ef39b2",
   "metadata": {},
   "source": [
    "In this lab, we will explore the functionality of several important random number generation functions provided by the NumPy library in Python. These functions include np.random.choice() for generating random samples from arrays, np.random.shuffle() for shuffling the contents of arrays, andnp.random.randn()` for generating random numbers from a standard normal distribution. Through hands-on exercises, participants will gain a understanding of how to use these functions effectively in various scenarios."
   ]
  },
  {
   "cell_type": "markdown",
   "id": "822b0d5e",
   "metadata": {},
   "source": [
    "Example 1:\n",
    "Generates a single random number.\n",
    "\n",
    "In this example we will generate a single random number by using the random() function. The random() function returns a random number within the range of 0 to 1.0."
   ]
  },
  {
   "cell_type": "code",
   "execution_count": null,
   "id": "f2356a89",
   "metadata": {},
   "outputs": [
    {
     "name": "stdout",
     "output_type": "stream",
     "text": [
      "Random number sampled from a standarad normal distribution: [0.84499521 0.42186402 0.54544411 0.67309264 0.87173886 0.07857606\n",
      " 0.08976862 0.90103807 0.89261913 0.29961003]\n"
     ]
    }
   ],
   "source": [
    "from numpy import random\n",
    "\n",
    "data = random.rand(10) # 10 random numbers between 0 and 1\n",
    "print(\"Random number sampled from a standarad normal distribution:\", data) # Print the generated random numbers"
   ]
  },
  {
   "cell_type": "markdown",
   "id": "d95fe2d6",
   "metadata": {},
   "source": [
    "Example 2: Generates an array of n random numbers.\n",
    "\n",
    "In this example, we generate an array of n random numbers by using the np.random.randn(n) function. The function returns an array of n random numbers with mean 0 and standard deviation 1."
   ]
  },
  {
   "cell_type": "code",
   "execution_count": null,
   "id": "4869c98b",
   "metadata": {},
   "outputs": [
    {
     "name": "stdout",
     "output_type": "stream",
     "text": [
      "Array of 5 Random number sampled from a standarad normal distribution:\n",
      "[ 0.90790763 -0.8949393  -1.45778862 -0.49703919  0.76413983]\n"
     ]
    }
   ],
   "source": [
    "from numpy import random\n",
    "\n",
    "n = 5 # Define the number of random numbers to generate\n",
    "random_numbers = random.randn(n) # Generate 'n' random numbers sampled from a standard normal distribution\n",
    "# (mean = 0, standard deviation = 1)\n",
    "print(\"Array of\", n, \"Random number sampled from a standarad normal distribution:\") # Print the description and the generated array\n",
    "print(random_numbers)"
   ]
  },
  {
   "cell_type": "markdown",
   "id": "e212aeb7",
   "metadata": {},
   "source": [
    "Example 3: \n",
    "\n",
    "Generates a 2D array with m rows and n columns of random numbers.\n",
    "\n",
    "In this example, we will generate a 2D array with 3 rows and 4 columns of random numbers. The result will be a 3x4 2D array with random numbers ranging from 0 to 99."
   ]
  },
  {
   "cell_type": "code",
   "execution_count": null,
   "id": "4a7dec1c",
   "metadata": {},
   "outputs": [
    {
     "name": "stdout",
     "output_type": "stream",
     "text": [
      "2D array of random numbers sampled frinm a standard normal distribution ( 3 rows x 2 columns):\n",
      "[[-1.10775956  1.27785983]\n",
      " [-0.51833767  0.17651275]\n",
      " [-0.0740204   0.9222514 ]]\n"
     ]
    }
   ],
   "source": [
    "from numpy import random  # Import the 'random' module from numpy\n",
    "\n",
    "m = 3  # Define the number of rows for the 2D array\n",
    "n = 2  # Define the number of columns for the 2D array\n",
    "\n",
    "# Generate a 2D array with shape (m, n) containing random numbers\n",
    "# Each number is sampled from a standard normal distribution (mean = 0, standard deviation = 1)\n",
    "random_numbers_2d = random.randn(m, n)\n",
    "\n",
    "# Print a message describing the array, including its shape\n",
    "print(\"2D array of random numbers sampled from a standard normal distribution (\", m, \"rows x\", n, \"columns):\")\n",
    "\n",
    "# Print the actual 2D array of random numbers\n",
    "print(random_numbers_2d)"
   ]
  },
  {
   "cell_type": "markdown",
   "id": "f53cda79",
   "metadata": {},
   "source": [
    "Example 4: Generates a random sample from a given 1-D array.\n",
    "\n",
    "In this example, we will generate a random sample from a given 1-D array. We will use the numpy.random.choice() function to do this."
   ]
  },
  {
   "cell_type": "code",
   "execution_count": 9,
   "id": "353a2520",
   "metadata": {},
   "outputs": [
    {
     "name": "stdout",
     "output_type": "stream",
     "text": [
      "Randomly sampled element: d\n"
     ]
    }
   ],
   "source": [
    "from numpy import random  # Import the 'random' module from numpy\n",
    "\n",
    "# Define an array of elements to sample from\n",
    "elements = ['a', 'b', 'c', 'd', 'e']\n",
    "\n",
    "# Randomly select a single element from the array\n",
    "random_sample = random.choice(elements)\n",
    "\n",
    "# Print the randomly selected element\n",
    "print(\"Randomly sampled element:\", random_sample)"
   ]
  },
  {
   "cell_type": "markdown",
   "id": "63fc66a9",
   "metadata": {},
   "source": [
    "Example 5: Shuffles the contents of an array in place.\n",
    "\n",
    "In this example, we will shuffle the contents of an array. We will use the np.random.shuffle() function."
   ]
  },
  {
   "cell_type": "code",
   "execution_count": 13,
   "id": "8c084135",
   "metadata": {},
   "outputs": [
    {
     "name": "stdout",
     "output_type": "stream",
     "text": [
      "Shuffled array: ['c', 'b', 'a', 'e', 'd']\n"
     ]
    }
   ],
   "source": [
    "from numpy import random  # Import the 'random' module from numpy\n",
    "\n",
    "# Define an array of elements to be shuffled\n",
    "elements = ['a', 'b', 'c', 'd', 'e']\n",
    "\n",
    "# Shuffle the array in place, modifying the original order randomly\n",
    "random.shuffle(elements)\n",
    "\n",
    "# Print the shuffled array\n",
    "print(\"Shuffled array:\", elements)\n"
   ]
  },
  {
   "cell_type": "markdown",
   "id": "60b293fc",
   "metadata": {},
   "source": [
    "Example 6: Real world example -Restaurant Menu Randomizer\n",
    "\n",
    "Suppose you're designing a digital menu for a restaurant, and you want to create a feature that suggests a random dish to the user when they're undecided about what to order. You can use the random module to implement this feature."
   ]
  },
  {
   "cell_type": "code",
   "execution_count": 14,
   "id": "b5d16e9c",
   "metadata": {},
   "outputs": [
    {
     "name": "stdout",
     "output_type": "stream",
     "text": [
      "Welcome to the Restaurant Menu Randomizer!\n",
      "If you're undecided about what to order, let us help you decide.\n",
      "Randomly suggested dish: Grilled Salmon\n",
      "Randomly suggested dish: Margherita Pizza\n",
      "Randomly suggested dish: Caesar Salad\n",
      "Randomly suggested dish: Cheeseburger\n",
      "Randomly suggested dish: Margherita Pizza\n",
      "Randomly suggested dish: Chicken Alfredo\n",
      "Randomly suggested dish: Grilled Salmon\n",
      "Randomly suggested dish: Spaghetti Carbonara\n",
      "Randomly suggested dish: Pad Thai\n",
      "Randomly suggested dish: Caesar Salad\n",
      "Randomly suggested dish: Fish and Chips\n",
      "Randomly suggested dish: Sushi Platter\n",
      "Randomly suggested dish: Vegetable Stir-Fry\n",
      "Thank you for using the Restaurant Menu Randomizer. Enjoy your meal!\n"
     ]
    }
   ],
   "source": [
    "import random  # Import Python's built-in random module for generating random choices\n",
    "\n",
    "# Define a list of dishes on the menu\n",
    "menu = [\n",
    "    \"Spaghetti Carbonara\",\n",
    "    \"Chicken Alfredo\",\n",
    "    \"Margherita Pizza\",\n",
    "    \"Cheeseburger\",\n",
    "    \"Caesar Salad\",\n",
    "    \"Fish and Chips\",\n",
    "    \"Pad Thai\",\n",
    "    \"Sushi Platter\",\n",
    "    \"Vegetable Stir-Fry\",\n",
    "    \"Grilled Salmon\"\n",
    "]\n",
    "\n",
    "# Function to suggest a random dish from the menu\n",
    "def suggest_dish():\n",
    "    random_dish = random.choice(menu)  # Randomly select one dish from the menu list\n",
    "    return random_dish  # Return the selected dish\n",
    "\n",
    "# Main program starts here\n",
    "print(\"Welcome to the Restaurant Menu Randomizer!\")\n",
    "print(\"If you're undecided about what to order, let us help you decide.\")\n",
    "\n",
    "# Start an infinite loop to keep suggesting dishes until the user decides to quit\n",
    "while True:\n",
    "    # Prompt the user to either get a suggestion or quit\n",
    "    user_input = input(\"Press enter to get a random dish suggestion (or type 'quit' to exit): \")\n",
    "\n",
    "    # Check if the user wants to exit the program\n",
    "    if user_input.lower() == 'quit':\n",
    "        print(\"Thank you for using the Restaurant Menu Randomizer. Enjoy your meal!\")\n",
    "        break  # Exit the loop and end the program\n",
    "\n",
    "    # If user presses Enter, get and print a random dish suggestion\n",
    "    suggested_dish = suggest_dish()\n",
    "    print(\"Randomly suggested dish:\", suggested_dish)\n"
   ]
  }
 ],
 "metadata": {
  "kernelspec": {
   "display_name": "Python 3",
   "language": "python",
   "name": "python3"
  },
  "language_info": {
   "codemirror_mode": {
    "name": "ipython",
    "version": 3
   },
   "file_extension": ".py",
   "mimetype": "text/x-python",
   "name": "python",
   "nbconvert_exporter": "python",
   "pygments_lexer": "ipython3",
   "version": "3.13.2"
  }
 },
 "nbformat": 4,
 "nbformat_minor": 5
}

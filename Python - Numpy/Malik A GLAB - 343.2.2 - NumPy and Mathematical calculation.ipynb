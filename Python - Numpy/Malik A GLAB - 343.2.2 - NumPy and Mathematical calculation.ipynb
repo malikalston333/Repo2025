{
 "cells": [
  {
   "cell_type": "markdown",
   "id": "5d5217a5",
   "metadata": {},
   "source": [
    "Introduction\n",
    "NumPy (Numerical Python) is a fundamental library for numerical computing in Python. It provides support for multidimensional arrays, mathematical functions, and a wide range of operations on arrays. In this guided lab, you will dive into the world of NumPy and learn how to efficiently manipulate arrays, perform mathematical operations, and solve common data science tasks using this powerful library."
   ]
  },
  {
   "cell_type": "markdown",
   "id": "eea3d956",
   "metadata": {},
   "source": [
    "Example 1: \n",
    "\n",
    "Import NumPy\n",
    "\n",
    "Open a Python environment (e.g., Jupyter Notebook). Import the NumPy library using import numpy as np."
   ]
  },
  {
   "cell_type": "code",
   "execution_count": 1,
   "id": "7053216b",
   "metadata": {},
   "outputs": [],
   "source": [
    "import numpy as np\n"
   ]
  },
  {
   "cell_type": "markdown",
   "id": "377f334a",
   "metadata": {},
   "source": [
    "Example 2: Creating NumPy Arrays\n",
    "\n",
    "Create a 1D NumPy array from a Python list.\n",
    "\n",
    "Create a 2D NumPy array from a nested Python list.\n",
    "\n",
    "Explore the attributes of NumPy arrays such as shape, size, and data type."
   ]
  },
  {
   "cell_type": "code",
   "execution_count": null,
   "id": "15d31949",
   "metadata": {},
   "outputs": [
    {
     "name": "stdout",
     "output_type": "stream",
     "text": [
      "1D NumPy Array:\n",
      "Array: [1 2 3 4 5]\n",
      "Shape: (5,)\n",
      "Size: 5\n",
      "Data Type: int64\n",
      "\n",
      "2D NumPy Array:\n",
      "Array:\n",
      "[[1 2 3]\n",
      " [4 5 6]\n",
      " [7 8 9]]\n",
      "Shape: (3, 3)\n",
      "Size: 9\n",
      "Data Type: int64\n"
     ]
    }
   ],
   "source": [
    "import numpy as np  # Import the NumPy library with the alias 'np'\n",
    "\n",
    "# Create a 1D NumPy array from a standard Python list\n",
    "python_list_1d = [1, 2, 3, 4, 5]\n",
    "numpy_array_1d = np.array(python_list_1d)\n",
    "\n",
    "# Create a 2D NumPy array from a nested Python list (list of lists)\n",
    "python_list_2d = [[1, 2, 3], [4, 5, 6], [7, 8, 9]]\n",
    "numpy_array_2d = np.array(python_list_2d)\n",
    "\n",
    "# Get the shape (dimensions) of the 1D and 2D arrays\n",
    "shape_1d = numpy_array_1d.shape  # Should return (5,)\n",
    "shape_2d = numpy_array_2d.shape  # Should return (3, 3)\n",
    "\n",
    "# Get the total number of elements in each array\n",
    "size_1d = numpy_array_1d.size  # Total elements in 1D array: 5\n",
    "size_2d = numpy_array_2d.size  # Total elements in 2D array: 9\n",
    "\n",
    "# Get the data type of the elements in each array\n",
    "data_type_1d = numpy_array_1d.dtype  # Typically int64 or int32 depending on system\n",
    "data_type_2d = numpy_array_2d.dtype  # Same as above\n",
    "\n",
    "# Print the details of the 1D array\n",
    "print(\"1D NumPy Array:\")\n",
    "print(\"Array:\", numpy_array_1d)\n",
    "print(\"Shape:\", shape_1d)\n",
    "print(\"Size:\", size_1d)\n",
    "print(\"Data Type:\", data_type_1d)\n",
    "\n",
    "# Print the details of the 2D array\n",
    "print(\"\\n2D NumPy Array:\")\n",
    "print(\"Array:\")\n",
    "print(numpy_array_2d)\n",
    "print(\"Shape:\", shape_2d)\n",
    "print(\"Size:\", size_2d)\n",
    "print(\"Data Type:\", data_type_2d)\n"
   ]
  },
  {
   "cell_type": "markdown",
   "id": "9e757d58",
   "metadata": {},
   "source": [
    "Example 3: Statistical and Mathematical Functions\n",
    "\n",
    "Perform element-wise addition, subtraction, multiplication, and division on arrays.\n",
    "\n",
    "Apply basic mathematical functions (e.g., np.sin(), np.exp()) to arrays."
   ]
  },
  {
   "cell_type": "code",
   "execution_count": 4,
   "id": "e50eee04",
   "metadata": {},
   "outputs": [
    {
     "name": "stdout",
     "output_type": "stream",
     "text": [
      "\n",
      "Element-wise Operations on 1D Array:\n",
      "Original Array: [1 2 3 4 5]\n",
      "Addition Result: [11 12 13 14 15]\n",
      "Subtraction Result: [-1  0  1  2  3]\n",
      "Multiplication Result: [ 3  6  9 12 15]\n",
      "Division Result: [0.5 1.  1.5 2.  2.5]\n",
      "\n",
      "Mathematical Functions Applied to 1D Array:\n",
      "Original Array: [1 2 3 4 5]\n",
      "sin Result: [ 0.84147098  0.90929743  0.14112001 -0.7568025  -0.95892427]\n",
      "exp Result: [  2.71828183   7.3890561   20.08553692  54.59815003 148.4131591 ]\n"
     ]
    }
   ],
   "source": [
    "# Perform element-wise operations on arrays\n",
    "addition_result = numpy_array_1d + 10        # Add 10 to each element in the array\n",
    "subtraction_result = numpy_array_1d - 2      # Subtract 2 from each element in the array (note: fixed variable name)\n",
    "multiplication_result = numpy_array_1d * 3   # Multiply each element by 3\n",
    "division_result = numpy_array_1d / 2         # Divide each element by 2\n",
    "\n",
    "# Display results of arithmetic operations\n",
    "print(\"\\nElement-wise Operations on 1D Array:\")\n",
    "print(\"Original Array:\", numpy_array_1d)\n",
    "print(\"Addition Result:\", addition_result)\n",
    "print(\"Subtraction Result:\", subtraction_result)\n",
    "print(\"Multiplication Result:\", multiplication_result)\n",
    "print(\"Division Result:\", division_result)\n",
    "\n",
    "# Apply basic mathematical functions to arrays\n",
    "sin_result = np.sin(numpy_array_1d)  # Apply sine function to each element (input in radians)\n",
    "exp_result = np.exp(numpy_array_1d)  # Apply exponential function (e^x) to each element\n",
    "\n",
    "# Display results of mathematical function applications\n",
    "print(\"\\nMathematical Functions Applied to 1D Array:\")\n",
    "print(\"Original Array:\", numpy_array_1d)\n",
    "print(\"sin Result:\", sin_result)\n",
    "print(\"exp Result:\", exp_result)\n"
   ]
  },
  {
   "cell_type": "markdown",
   "id": "7daf2b86",
   "metadata": {},
   "source": [
    "Example 4: Statistical and Mathematical Functions\n",
    "\n",
    "Calculate the mean, median, and standard deviation of an array.\n",
    "\n",
    "Find the minimum and maximum values in an array."
   ]
  },
  {
   "cell_type": "code",
   "execution_count": 5,
   "id": "caab0ef8",
   "metadata": {},
   "outputs": [
    {
     "name": "stdout",
     "output_type": "stream",
     "text": [
      "\n",
      "Mathematical Functions Applied to 1D Array:\n",
      "Original Array: [1 2 3 4 5]\n",
      "sin Result: [ 0.84147098  0.90929743  0.14112001 -0.7568025  -0.95892427]\n",
      "exp Result: [  2.71828183   7.3890561   20.08553692  54.59815003 148.4131591 ]\n",
      "\n",
      "Statistics on 1D Array:\n",
      "Mean: 3.0\n",
      "Median: 3.0\n",
      "Standard Deviation: 1.4142135623730951\n",
      "Minimum Value: 1\n",
      "Maximum Value: 5\n"
     ]
    }
   ],
   "source": [
    "# Apply basic mathematical functions to arrays\n",
    "sin_result = np.sin(numpy_array_1d)  # Compute the sine of each element (input values are in radians)\n",
    "exp_result = np.exp(numpy_array_1d)  # Compute the exponential (e^x) of each element\n",
    "\n",
    "# Print the original array and the results of the mathematical functions\n",
    "print(\"\\nMathematical Functions Applied to 1D Array:\")\n",
    "print(\"Original Array:\", numpy_array_1d)\n",
    "print(\"sin Result:\", sin_result)  # Shows sine of each value\n",
    "print(\"exp Result:\", exp_result)  # Shows exponential of each value\n",
    "\n",
    "# Calculate basic statistics on the 1D array\n",
    "mean_value = np.mean(numpy_array_1d)     # Calculate the average of the array\n",
    "median_value = np.median(numpy_array_1d) # Get the middle value when the array is sorted\n",
    "std_deviation = np.std(numpy_array_1d)   # Compute how spread out the values are (standard deviation)\n",
    "min_value = np.min(numpy_array_1d)       # Find the smallest value in the array\n",
    "max_value = np.max(numpy_array_1d)       # Find the largest value in the array\n",
    "\n",
    "# Print the calculated statistics\n",
    "print(\"\\nStatistics on 1D Array:\")\n",
    "print(\"Mean:\", mean_value)                # Average of all elements\n",
    "print(\"Median:\", median_value)            # Middle value of sorted elements\n",
    "print(\"Standard Deviation:\", std_deviation)  # Measure of how spread out values are\n",
    "print(\"Minimum Value:\", min_value)        # Smallest element\n",
    "print(\"Maximum Value:\", max_value)        # Largest element\n"
   ]
  },
  {
   "cell_type": "markdown",
   "id": "e8843d38",
   "metadata": {},
   "source": [
    "Example 5: Slicing and Indexing\n",
    "\n",
    "Slice arrays to extract specific elements or sub-arrays.\n",
    "\n",
    "Use boolean indexing to filter elements based on conditions.\n",
    "\n",
    "Combine slicing and indexing techniques to manipulate arrays effectively."
   ]
  },
  {
   "cell_type": "code",
   "execution_count": 7,
   "id": "455bd5ee",
   "metadata": {},
   "outputs": [
    {
     "name": "stdout",
     "output_type": "stream",
     "text": [
      "\n",
      "Sliced Array:\n",
      "[2 3 4]\n",
      "\n",
      "Boolean Indexing:\n",
      "Original Array: [1 2 3 4 5]\n",
      "Index Condition: [False False False  True  True]\n",
      "Filtered Elements: [4 5]\n",
      "\n",
      "Combined Slicing and Indexing:\n",
      "Original Array: [1 2 3 4 5]\n",
      "Filtered Elements: [4]\n"
     ]
    }
   ],
   "source": [
    "# Slicing and Indexing\n",
    "\n",
    "# Slice elements from index 1 to 3 (4 is not included)\n",
    "sliced_array = numpy_array_1d[1:4]  # Example: if array is [1, 2, 3, 4, 5], this gives [2, 3, 4]\n",
    "\n",
    "# Create a boolean array where each element indicates whether the corresponding value is greater than 3\n",
    "index_condition = numpy_array_1d > 3  # Example: [False, False, False, True, True]\n",
    "\n",
    "# Print the result of slicing\n",
    "print(\"\\nSliced Array:\")\n",
    "print(sliced_array)\n",
    "\n",
    "# Print the result of boolean indexing\n",
    "print(\"\\nBoolean Indexing:\")\n",
    "print(\"Original Array:\", numpy_array_1d)\n",
    "print(\"Index Condition:\", index_condition)  # Shows which elements meet the condition\n",
    "print(\"Filtered Elements:\", numpy_array_1d[index_condition])  # Only elements where condition is True\n",
    "\n",
    "# Combining Slicing and Indexing\n",
    "\n",
    "# First slice from index 1 to 3, then apply a condition to filter values > 3 within that slice\n",
    "combined_result = numpy_array_1d[1:4][numpy_array_1d[1:4] > 3]\n",
    "\n",
    "# Print result of combined slicing and indexing\n",
    "print(\"\\nCombined Slicing and Indexing:\")\n",
    "print(\"Original Array:\", numpy_array_1d)\n",
    "print(\"Filtered Elements:\", combined_result)  # Elements in index 1–3 that are greater than 3\n"
   ]
  },
  {
   "cell_type": "markdown",
   "id": "3f6fc121",
   "metadata": {},
   "source": [
    "Example 6: Real-world example of using NumPy\n",
    "\n",
    "Let's consider a real-world example of using NumPy for data manipulation in the context of analyzing temperature data from a weather station.\n",
    "\n",
    "You have a dataset with daily temperature records for a year, and you want to perform various operations and calculations on this data.\n",
    "\n",
    "In the following example, we will use NumPy to:\n",
    "\n",
    "Calculate the mean, median, and standard deviation of the daily temperature data.\n",
    "\n",
    "Convert the temperatures from Celsius to Fahrenheit.\n",
    "\n",
    "Identify hot days with temperatures above 30°C.\n",
    "\n",
    "Count the number of hot days.\n",
    "\n",
    "Calculate cooling degree days, a measure of cooling requirements based on a specified base temperature.\n",
    "\n",
    "These operations demonstrate how NumPy can simplify data manipulation and analysis, making it a powerful tool for working with real-world data in various scientific and engineering fields, including meteorology and climate science."
   ]
  },
  {
   "cell_type": "code",
   "execution_count": null,
   "id": "0436d5a5",
   "metadata": {},
   "outputs": [],
   "source": [
    "import numpy as np  # Import the NumPy library\n",
    "\n",
    "# Suppose you have a year's worth of daily temperature data in Celsius\n",
    "temperature_data = np.array([\n",
    "    22.3, 23.1, 24.5, 25.8, 23.6, 26.7, 27.9, 29.2, 30.5, 24.7,\n",
    "    23.4, 22.1, 25.3, 26.4, 28.7, 29.8, 31.2, 32.4, 30.7, 29.5,\n",
    "    27.8, 26.6, 23.9, 22.5, 24.1, 25.7, 27.3, 29.6, 31.0, 33.1, 31.9\n",
    "])\n",
    "\n",
    "# Calculate basic statistical measures on the temperature data\n",
    "mean_temperature = np.mean(temperature_data)       # Average temperature\n",
    "median_temperature = np.median(temperature_data)   # Middle value when sorted\n",
    "std_deviation_temperature = np.std(temperature_data)  # Spread of values around the mean\n",
    "\n",
    "# Print the statistics\n",
    "print(\"Mean Temperature:\", mean_temperature)\n",
    "print(\"Median Temperature:\", median_temperature)\n",
    "print(\"Standard Deviation:\", std_deviation_temperature)\n",
    "\n",
    "# Convert temperatures from Celsius to Fahrenheit using the formula: F = C * 9/5 + 32\n",
    "temperature_data_fahrenheit = (temperature_data * 9/5) + 32\n",
    "\n",
    "# Identify days where the temperature exceeded 30°C\n",
    "hot_days = temperature_data[temperature_data > 30]  # Filter for values > 30\n",
    "\n",
    "# Count how many days were hotter than 30°C\n",
    "num_hot_days = len(hot_days)\n",
    "\n",
    "# Print the number of hot days\n",
    "print(\"Number of Hot Days:\", num_hot_days)\n",
    "\n",
    "# Calculate Cooling Degree Days (CDD)\n",
    "# CDD = sum of (temperature - base temperature) for all days where temperature > base\n",
    "base_temperature = 20  # Set the base indoor comfort temperature (in °C)\n",
    "cooling_degree_days = np.sum(np.maximum(temperature_data - base_temperature, 0))  # Only count values above base\n",
    "\n",
    "# Print the total cooling degree days\n",
    "print(\"Cooling Degree Days:\", cooling_degree_days)\n"
   ]
  }
 ],
 "metadata": {
  "kernelspec": {
   "display_name": "Python 3",
   "language": "python",
   "name": "python3"
  },
  "language_info": {
   "codemirror_mode": {
    "name": "ipython",
    "version": 3
   },
   "file_extension": ".py",
   "mimetype": "text/x-python",
   "name": "python",
   "nbconvert_exporter": "python",
   "pygments_lexer": "ipython3",
   "version": "3.13.2"
  }
 },
 "nbformat": 4,
 "nbformat_minor": 5
}

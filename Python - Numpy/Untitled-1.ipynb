{
 "cells": [
  {
   "cell_type": "markdown",
   "id": "dd95054f",
   "metadata": {},
   "source": [
    "Task 1: Data Type Objects in NumPy\n",
    "\n",
    "Create a NumPy array using np.array() function and specify the data type as 'int32.' Print the array and its data type.\n",
    "\n",
    "Create another NumPy array using np.array() with the data type as 'float64.' Print the array and its data type."
   ]
  },
  {
   "cell_type": "code",
   "execution_count": null,
   "id": "9ec1c471",
   "metadata": {},
   "outputs": [],
   "source": []
  }
 ],
 "metadata": {
  "language_info": {
   "name": "python"
  }
 },
 "nbformat": 4,
 "nbformat_minor": 5
}

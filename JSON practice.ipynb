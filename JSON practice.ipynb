{
 "cells": [
  {
   "cell_type": "code",
   "execution_count": 15,
   "id": "c1295466",
   "metadata": {},
   "outputs": [
    {
     "name": "stdout",
     "output_type": "stream",
     "text": [
      "json file 'Turtles in Time.json' was created\n"
     ]
    }
   ],
   "source": [
    "import json\n",
    "\n",
    "ninja = {\n",
    "    \"name\": \"Leo\",\n",
    "    \"age\": 40,\n",
    "    \"job\": \"badass\"\n",
    "}\n",
    "file_path = \"Turtles in Time.json\"\n",
    "\n",
    "try:\n",
    "    with open(file_path, \"w\") as file:\n",
    "        json.dump(ninja, file, indent=4)\n",
    "        print(f\"json file '{file_path}' was created\")\n",
    "except FileExistsError:\n",
    "    print(\"That file already exists\")"
   ]
  }
 ],
 "metadata": {
  "kernelspec": {
   "display_name": "Python 3",
   "language": "python",
   "name": "python3"
  },
  "language_info": {
   "codemirror_mode": {
    "name": "ipython",
    "version": 3
   },
   "file_extension": ".py",
   "mimetype": "text/x-python",
   "name": "python",
   "nbconvert_exporter": "python",
   "pygments_lexer": "ipython3",
   "version": "3.13.2"
  }
 },
 "nbformat": 4,
 "nbformat_minor": 5
}

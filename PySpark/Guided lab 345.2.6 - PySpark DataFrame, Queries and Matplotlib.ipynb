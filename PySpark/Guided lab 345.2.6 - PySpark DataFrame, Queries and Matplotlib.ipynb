{
 "cells": [
  {
   "cell_type": "code",
   "execution_count": 2,
   "id": "27b5598d",
   "metadata": {},
   "outputs": [],
   "source": [
    "import pyspark\n",
    "from pyspark.sql import SparkSession\n",
    "\n",
    "# create the SparkSession\n",
    "spark = SparkSession.builder.appName('DemoApp').getOrCreate()\n",
    "\n",
    "df = spark.read.load(r\"C:\\Users\\malik.alston\\Desktop\\Data\\Sales_October_2019.csv\", format=\"csv\", header = True,inferSchema = True)\n"
   ]
  },
  {
   "cell_type": "code",
   "execution_count": 3,
   "id": "3fedb98b",
   "metadata": {},
   "outputs": [
    {
     "name": "stdout",
     "output_type": "stream",
     "text": [
      "root\n",
      " |-- Order ID: integer (nullable = true)\n",
      " |-- Product: string (nullable = true)\n",
      " |-- Quantity Ordered: integer (nullable = true)\n",
      " |-- Price Each: double (nullable = true)\n",
      " |-- Order Date: string (nullable = true)\n",
      " |-- Purchase Address: string (nullable = true)\n",
      "\n",
      "+--------+--------------------------+----------------+----------+--------------+-----------------------------------------+\n",
      "|Order ID|Product                   |Quantity Ordered|Price Each|Order Date    |Purchase Address                         |\n",
      "+--------+--------------------------+----------------+----------+--------------+-----------------------------------------+\n",
      "|259358  |34in Ultrawide Monitor    |1               |379.99    |10/28/19 10:56|609 Cherry St, Dallas, TX 75001          |\n",
      "|259359  |27in 4K Gaming Monitor    |1               |389.99    |10/28/19 17:26|225 5th St, Los Angeles, CA 90001        |\n",
      "|259360  |AAA Batteries (4-pack)    |2               |2.99      |10/24/19 17:20|967 12th St, New York City, NY 10001     |\n",
      "|259361  |27in FHD Monitor          |1               |149.99    |10/14/19 22:26|628 Jefferson St, New York City, NY 10001|\n",
      "|259362  |Wired Headphones          |1               |11.99     |10/07/19 16:10|534 14th St, Los Angeles, CA 90001       |\n",
      "|259363  |AAA Batteries (4-pack)    |1               |2.99      |10/01/19 18:55|976 Lake St, New York City, NY 10001     |\n",
      "|259364  |Wired Headphones          |1               |11.99     |10/29/19 11:02|874 North St, Los Angeles, CA 90001      |\n",
      "|259365  |Lightning Charging Cable  |1               |14.95     |10/29/19 11:19|127 12th St, Los Angeles, CA 90001       |\n",
      "|259366  |Apple Airpods Headphones  |1               |150.0     |10/20/19 11:52|955 9th St, Los Angeles, CA 90001        |\n",
      "|259367  |Apple Airpods Headphones  |1               |150.0     |10/16/19 16:19|742 14th St, San Francisco, CA 94016     |\n",
      "|259368  |27in FHD Monitor          |1               |149.99    |10/13/19 13:47|960 Ridge St, Boston, MA 02215           |\n",
      "|259369  |USB-C Charging Cable      |1               |11.95     |10/26/19 10:54|538 Johnson St, Portland, OR 97035       |\n",
      "|259370  |20in Monitor              |1               |109.99    |10/28/19 23:56|528 Forest St, San Francisco, CA 94016   |\n",
      "|259371  |iPhone                    |1               |700.0     |10/26/19 12:12|306 Main St, Los Angeles, CA 90001       |\n",
      "|259372  |Wired Headphones          |1               |11.99     |10/17/19 11:07|434 Madison St, San Francisco, CA 94016  |\n",
      "|259373  |27in FHD Monitor          |1               |149.99    |10/31/19 20:15|924 Church St, San Francisco, CA 94016   |\n",
      "|259374  |Apple Airpods Headphones  |1               |150.0     |10/17/19 22:14|784 6th St, Los Angeles, CA 90001        |\n",
      "|259375  |USB-C Charging Cable      |1               |11.95     |10/10/19 08:53|557 Forest St, San Francisco, CA 94016   |\n",
      "|259376  |27in FHD Monitor          |1               |149.99    |10/12/19 00:03|218 14th St, San Francisco, CA 94016     |\n",
      "|259377  |Bose SoundSport Headphones|1               |99.99     |10/23/19 16:49|88 Main St, Boston, MA 02215             |\n",
      "+--------+--------------------------+----------------+----------+--------------+-----------------------------------------+\n",
      "only showing top 20 rows\n",
      "\n"
     ]
    }
   ],
   "source": [
    "df.printSchema()\n",
    "df.columns\n",
    "df.dtypes\n",
    "df.head()\n",
    "df.show(truncate=False)"
   ]
  },
  {
   "cell_type": "code",
   "execution_count": null,
   "id": "36b0860e",
   "metadata": {},
   "outputs": [],
   "source": []
  }
 ],
 "metadata": {
  "kernelspec": {
   "display_name": "Python 3",
   "language": "python",
   "name": "python3"
  },
  "language_info": {
   "codemirror_mode": {
    "name": "ipython",
    "version": 3
   },
   "file_extension": ".py",
   "mimetype": "text/x-python",
   "name": "python",
   "nbconvert_exporter": "python",
   "pygments_lexer": "ipython3",
   "version": "3.13.2"
  }
 },
 "nbformat": 4,
 "nbformat_minor": 5
}

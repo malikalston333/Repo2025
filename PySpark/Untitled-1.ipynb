{
 "cells": [
  {
   "cell_type": "markdown",
   "id": "419ebdd5",
   "metadata": {},
   "source": [
    "1.1: \n",
    "\n",
    "Load/Read the CompanyABC Stock (CompanyABC stock.csv) data into the SparkSQL DataFrame [ hint read() ]."
   ]
  },
  {
   "cell_type": "code",
   "execution_count": 2,
   "id": "3f640d88",
   "metadata": {},
   "outputs": [],
   "source": [
    "# Import the necessary Pyspark modules\n",
    "import pyspark\n",
    "from pyspark.sql import SparkSession\n",
    "from pyspark.sql.functions import mean,avg,max,min\n",
    "# Create a Spark session with a session name relevant to the task/project\n",
    "spark = SparkSession.builder.appName(\"CompanyABC\").getOrCreate()\n",
    "# Reading/loading the dataset from csv file\n",
    "abcdf = spark.read.load(r\"C:\\Users\\malik.alston\\Desktop\\Data\\CompanyABC_stock.csv\", format = \"csv\", header = True, inferschema = True)"
   ]
  },
  {
   "cell_type": "code",
   "execution_count": 18,
   "id": "44c48c6f",
   "metadata": {},
   "outputs": [
    {
     "name": "stdout",
     "output_type": "stream",
     "text": [
      "+----------+------------------+------------------+------------------+------------------+--------+------------------+\n",
      "|      Date|              Open|              High|               Low|             Close|  Volume|         Adj Close|\n",
      "+----------+------------------+------------------+------------------+------------------+--------+------------------+\n",
      "|2012-01-03|         59.970001|         61.060001|         59.869999|         60.330002|12668800|52.619234999999996|\n",
      "|2012-01-04|60.209998999999996|         60.349998|         59.470001|59.709998999999996| 9593300|         52.078475|\n",
      "|2012-01-05|         59.349998|         59.619999|         58.369999|         59.419998|12768200|         51.825539|\n",
      "|2012-01-06|         59.419998|         59.450001|         58.869999|              59.0| 8069400|          51.45922|\n",
      "|2012-01-09|         59.029999|         59.549999|         58.919998|             59.18| 6679300|51.616215000000004|\n",
      "|2012-01-10|             59.43|59.709998999999996|             58.98|59.040001000000004| 6907300|         51.494109|\n",
      "|2012-01-11|         59.060001|         59.529999|59.040001000000004|         59.400002| 6365600|         51.808098|\n",
      "|2012-01-12|59.790001000000004|              60.0|         59.400002|              59.5| 7236400|51.895315999999994|\n",
      "|2012-01-13|             59.18|59.610001000000004|59.009997999999996|59.540001000000004| 7729300|51.930203999999996|\n",
      "|2012-01-17|         59.869999|60.110001000000004|             59.52|         59.849998| 8500000|         52.200581|\n",
      "|2012-01-18|59.790001000000004|         60.029999|         59.650002|60.009997999999996| 5911400|         52.340131|\n",
      "|2012-01-19|             59.93|             60.73|             59.75|60.610001000000004| 9234600|         52.863447|\n",
      "|2012-01-20|             60.75|             61.25|         60.669998|61.009997999999996|10378800|53.212320999999996|\n",
      "|2012-01-23|         60.810001|             60.98|60.509997999999996|             60.91| 7134100|         53.125104|\n",
      "|2012-01-24|             60.75|              62.0|             60.75|61.389998999999996| 7362800| 53.54375400000001|\n",
      "|2012-01-25|             61.18|61.610001000000004|61.040001000000004|         61.470001| 5915800| 53.61353100000001|\n",
      "|2012-01-26|         61.799999|             61.84|             60.77|         60.970001| 7436200|         53.177436|\n",
      "|2012-01-27|60.860001000000004|         61.119999|60.540001000000004|60.709998999999996| 6287300|         52.950665|\n",
      "|2012-01-30|         60.470001|             61.32|         60.349998|         61.299999| 7636900|53.465256999999994|\n",
      "|2012-01-31|         61.529999|             61.57|         60.580002|61.360001000000004| 9761500|53.517590000000006|\n",
      "+----------+------------------+------------------+------------------+------------------+--------+------------------+\n",
      "only showing top 20 rows\n",
      "\n"
     ]
    }
   ],
   "source": [
    "abcdf.show()"
   ]
  },
  {
   "cell_type": "code",
   "execution_count": 20,
   "id": "91130301",
   "metadata": {},
   "outputs": [
    {
     "name": "stdout",
     "output_type": "stream",
     "text": [
      "root\n",
      " |-- Date: date (nullable = true)\n",
      " |-- Open: double (nullable = true)\n",
      " |-- High: double (nullable = true)\n",
      " |-- Low: double (nullable = true)\n",
      " |-- Close: double (nullable = true)\n",
      " |-- Volume: integer (nullable = true)\n",
      " |-- Adj Close: double (nullable = true)\n",
      "\n",
      "+-------+------------------+-----------------+-----------------+-----------------+-----------------+-----------------+\n",
      "|summary|              Open|             High|              Low|            Close|           Volume|        Adj Close|\n",
      "+-------+------------------+-----------------+-----------------+-----------------+-----------------+-----------------+\n",
      "|  count|              1258|             1258|             1258|             1258|             1258|             1258|\n",
      "|   mean| 72.35785375357709|72.83938807631165| 71.9186009594594|72.38844998012726|8222093.481717011|67.23883848728146|\n",
      "| stddev|  6.76809024470826|6.768186808159218|6.744075756255496|6.756859163732991|  4519780.8431556|6.722609449996857|\n",
      "|    min|56.389998999999996|        57.060001|        56.299999|        56.419998|          2094900|        50.363689|\n",
      "|    max|         90.800003|        90.970001|            89.25|        90.470001|         80898100|84.91421600000001|\n",
      "+-------+------------------+-----------------+-----------------+-----------------+-----------------+-----------------+\n",
      "\n",
      "+----------+------------------+------------------+------------------+------------------+--------+------------------+\n",
      "|      Date|              Open|              High|               Low|             Close|  Volume|         Adj Close|\n",
      "+----------+------------------+------------------+------------------+------------------+--------+------------------+\n",
      "|2012-01-03|         59.970001|         61.060001|         59.869999|         60.330002|12668800|52.619234999999996|\n",
      "|2012-01-04|60.209998999999996|         60.349998|         59.470001|59.709998999999996| 9593300|         52.078475|\n",
      "|2012-01-05|         59.349998|         59.619999|         58.369999|         59.419998|12768200|         51.825539|\n",
      "|2012-01-06|         59.419998|         59.450001|         58.869999|              59.0| 8069400|          51.45922|\n",
      "|2012-01-09|         59.029999|         59.549999|         58.919998|             59.18| 6679300|51.616215000000004|\n",
      "|2012-01-10|             59.43|59.709998999999996|             58.98|59.040001000000004| 6907300|         51.494109|\n",
      "|2012-01-11|         59.060001|         59.529999|59.040001000000004|         59.400002| 6365600|         51.808098|\n",
      "|2012-01-12|59.790001000000004|              60.0|         59.400002|              59.5| 7236400|51.895315999999994|\n",
      "|2012-01-13|             59.18|59.610001000000004|59.009997999999996|59.540001000000004| 7729300|51.930203999999996|\n",
      "|2012-01-17|         59.869999|60.110001000000004|             59.52|         59.849998| 8500000|         52.200581|\n",
      "|2012-01-18|59.790001000000004|         60.029999|         59.650002|60.009997999999996| 5911400|         52.340131|\n",
      "|2012-01-19|             59.93|             60.73|             59.75|60.610001000000004| 9234600|         52.863447|\n",
      "|2012-01-20|             60.75|             61.25|         60.669998|61.009997999999996|10378800|53.212320999999996|\n",
      "|2012-01-23|         60.810001|             60.98|60.509997999999996|             60.91| 7134100|         53.125104|\n",
      "|2012-01-24|             60.75|              62.0|             60.75|61.389998999999996| 7362800| 53.54375400000001|\n",
      "|2012-01-25|             61.18|61.610001000000004|61.040001000000004|         61.470001| 5915800| 53.61353100000001|\n",
      "|2012-01-26|         61.799999|             61.84|             60.77|         60.970001| 7436200|         53.177436|\n",
      "|2012-01-27|60.860001000000004|         61.119999|60.540001000000004|60.709998999999996| 6287300|         52.950665|\n",
      "|2012-01-30|         60.470001|             61.32|         60.349998|         61.299999| 7636900|53.465256999999994|\n",
      "|2012-01-31|         61.529999|             61.57|         60.580002|61.360001000000004| 9761500|53.517590000000006|\n",
      "+----------+------------------+------------------+------------------+------------------+--------+------------------+\n",
      "only showing top 20 rows\n",
      "\n"
     ]
    }
   ],
   "source": [
    "abcdf.columns # Displays a list of all column names in the dataframe\n",
    "abcdf.printSchema() # Print the schema in tree format\n",
    "abcdf.describe().show()\n",
    "abcdf.show() # Display data frame"
   ]
  },
  {
   "cell_type": "markdown",
   "id": "77c5febe",
   "metadata": {},
   "source": [
    "1.2: \n",
    "\n",
    "print first five rows"
   ]
  },
  {
   "cell_type": "code",
   "execution_count": null,
   "id": "d5bdc057",
   "metadata": {},
   "outputs": [
    {
     "data": {
      "text/plain": [
       "[Row(Date=datetime.date(2012, 1, 3), Open=59.970001, High=61.060001, Low=59.869999, Close=60.330002, Volume=12668800, Adj Close=52.619234999999996),\n",
       " Row(Date=datetime.date(2012, 1, 4), Open=60.209998999999996, High=60.349998, Low=59.470001, Close=59.709998999999996, Volume=9593300, Adj Close=52.078475),\n",
       " Row(Date=datetime.date(2012, 1, 5), Open=59.349998, High=59.619999, Low=58.369999, Close=59.419998, Volume=12768200, Adj Close=51.825539),\n",
       " Row(Date=datetime.date(2012, 1, 6), Open=59.419998, High=59.450001, Low=58.869999, Close=59.0, Volume=8069400, Adj Close=51.45922),\n",
       " Row(Date=datetime.date(2012, 1, 9), Open=59.029999, High=59.549999, Low=58.919998, Close=59.18, Volume=6679300, Adj Close=51.616215000000004)]"
      ]
     },
     "execution_count": 17,
     "metadata": {},
     "output_type": "execute_result"
    }
   ],
   "source": [
    "abcdf.head(5) # Display top 5 rows"
   ]
  },
  {
   "cell_type": "markdown",
   "id": "a8a8b70b",
   "metadata": {},
   "source": [
    "1.3: \n",
    "\n",
    "Create a new DataFrame column called “HV Ratio,” which will stimulate the ratio of the High price versus the total Volume of stock that was traded for a day."
   ]
  },
  {
   "cell_type": "code",
   "execution_count": null,
   "id": "3d0811bb",
   "metadata": {},
   "outputs": [
    {
     "name": "stdout",
     "output_type": "stream",
     "text": [
      "+--------------------+\n",
      "|            HV Ratio|\n",
      "+--------------------+\n",
      "|4.819714653321546E-6|\n",
      "|6.290848613094555E-6|\n",
      "|4.669412994783916E-6|\n",
      "|7.367338463826307E-6|\n",
      "|8.915604778943901E-6|\n",
      "|8.644477436914568E-6|\n",
      "|9.351828421515645E-6|\n",
      "| 8.29141562102703E-6|\n",
      "|7.712212102001476E-6|\n",
      "|7.071764823529412E-6|\n",
      "|1.015495466386981E-5|\n",
      "|6.576354146362592...|\n",
      "| 5.90145296180676E-6|\n",
      "|8.547679455011844E-6|\n",
      "|8.420709512685392E-6|\n",
      "|1.041448341728929...|\n",
      "|8.316075414862431E-6|\n",
      "|9.721183814992126E-6|\n",
      "|8.029436027707578E-6|\n",
      "|6.307432259386365E-6|\n",
      "+--------------------+\n",
      "only showing top 20 rows\n",
      "\n"
     ]
    }
   ],
   "source": [
    "abcdf.withColumn(\"HV Ratio\", abcdf[\"High\"] / abcdf[\"Volume\"]).select('HV Ratio').show() # Create new column named HV Ratio which displays the ratio of High over volume"
   ]
  },
  {
   "cell_type": "markdown",
   "id": "f4b74977",
   "metadata": {},
   "source": [
    "1.4: \n",
    "\n",
    "Find out on what day the stock price was the highest. (Hint: use the High column.)"
   ]
  },
  {
   "cell_type": "code",
   "execution_count": null,
   "id": "f00ab743",
   "metadata": {},
   "outputs": [
    {
     "name": "stdout",
     "output_type": "stream",
     "text": [
      "+----------+---------+\n",
      "|      Date|max(High)|\n",
      "+----------+---------+\n",
      "|2012-04-17|61.950001|\n",
      "|2013-01-22|69.650002|\n",
      "|2013-03-26|75.089996|\n",
      "|2013-05-21|    78.18|\n",
      "|2013-09-09|73.650002|\n",
      "|2014-09-26|    76.57|\n",
      "|2014-11-12|79.440002|\n",
      "|2015-03-09|83.339996|\n",
      "|2015-05-19|78.360001|\n",
      "|2016-03-01|66.889999|\n",
      "|2012-07-17|73.099998|\n",
      "|2013-09-19|76.529999|\n",
      "|2015-03-06|83.099998|\n",
      "|2016-04-25|     69.5|\n",
      "|2014-08-01|73.879997|\n",
      "|2015-04-09|81.389999|\n",
      "|2015-09-02|64.940002|\n",
      "|2015-12-22|60.700001|\n",
      "|2016-05-03|     67.5|\n",
      "|2016-07-26|    74.07|\n",
      "+----------+---------+\n",
      "only showing top 20 rows\n",
      "\n"
     ]
    }
   ],
   "source": [
    "abcdf.groupby('Date').agg(max('High')).show()\n",
    "# abcdf.select('Date', 'High').groupby('Date').max().show() alternate way"
   ]
  },
  {
   "cell_type": "markdown",
   "id": "a871b20a",
   "metadata": {},
   "source": [
    "1.5: \n",
    "\n",
    "What is the average (mean) closing price? (Hint: Use the Close column.)"
   ]
  },
  {
   "cell_type": "code",
   "execution_count": 22,
   "id": "985454cc",
   "metadata": {},
   "outputs": [
    {
     "name": "stdout",
     "output_type": "stream",
     "text": [
      "+-----------------+\n",
      "|       avg(Close)|\n",
      "+-----------------+\n",
      "|72.38844998012726|\n",
      "+-----------------+\n",
      "\n"
     ]
    }
   ],
   "source": [
    "abcdf.select(avg(\"Close\")).show()"
   ]
  },
  {
   "cell_type": "markdown",
   "id": "a8717961",
   "metadata": {},
   "source": [
    "1.6: \n",
    "\n",
    "What are the maximum and minimum volumes of stock traded? (Hint: Use the Volume column.)."
   ]
  },
  {
   "cell_type": "code",
   "execution_count": 23,
   "id": "e4595ce7",
   "metadata": {},
   "outputs": [
    {
     "name": "stdout",
     "output_type": "stream",
     "text": [
      "+-----------+-----------+\n",
      "|max(Volume)|min(Volume)|\n",
      "+-----------+-----------+\n",
      "|   80898100|    2094900|\n",
      "+-----------+-----------+\n",
      "\n"
     ]
    }
   ],
   "source": [
    "abcdf.select(max('Volume'), min('Volume')).show()"
   ]
  },
  {
   "cell_type": "markdown",
   "id": "b6932476",
   "metadata": {},
   "source": [
    "1.7: \n",
    "\n",
    "For how many days was the closing value less than 70 dollars? (Hint: Use the count() method.)"
   ]
  },
  {
   "cell_type": "code",
   "execution_count": 25,
   "id": "2b7ca22b",
   "metadata": {},
   "outputs": [
    {
     "data": {
      "text/plain": [
       "397"
      ]
     },
     "execution_count": 25,
     "metadata": {},
     "output_type": "execute_result"
    }
   ],
   "source": [
    "abcdf.filter(abcdf['Close'] < 70).count()"
   ]
  },
  {
   "cell_type": "markdown",
   "id": "3369b809",
   "metadata": {},
   "source": [
    "1.8: \n",
    "\n",
    "What percentage of the time was the High greater than 80 dollars?\n",
    " (Hint: (Number of Days High>80)/(Total Days in the dataset)."
   ]
  },
  {
   "cell_type": "code",
   "execution_count": null,
   "id": "7444d2cb",
   "metadata": {},
   "outputs": [
    {
     "name": "stdout",
     "output_type": "stream",
     "text": [
      "The percentage of the time that was greater than $80 was 9.14%\n"
     ]
    }
   ],
   "source": [
    "days = abcdf.select(\"Date\").count() # Counts total number of days\n",
    "high = abcdf.filter(abcdf['High'] > 80).count() # Counts times the high was greater than 80 dollaars\n",
    "\n",
    "number_of_days  = high / days # Divide to get percentage\n",
    "\n",
    "print(f\"The percentage of the time that was greater than $80 was {number_of_days:.2%}\") # Gets the percentage by moving the decimal twice"
   ]
  }
 ],
 "metadata": {
  "kernelspec": {
   "display_name": "Python 3",
   "language": "python",
   "name": "python3"
  },
  "language_info": {
   "codemirror_mode": {
    "name": "ipython",
    "version": 3
   },
   "file_extension": ".py",
   "mimetype": "text/x-python",
   "name": "python",
   "nbconvert_exporter": "python",
   "pygments_lexer": "ipython3",
   "version": "3.13.2"
  }
 },
 "nbformat": 4,
 "nbformat_minor": 5
}

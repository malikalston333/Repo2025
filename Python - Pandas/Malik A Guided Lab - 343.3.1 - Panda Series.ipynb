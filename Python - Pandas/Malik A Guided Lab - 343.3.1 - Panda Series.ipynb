{
 "cells": [
  {
   "cell_type": "markdown",
   "id": "a8398bc8",
   "metadata": {},
   "source": [
    "Lab Objective and Overview:\n",
    "\n",
    "In this lab, we will demonstrate the Panda Series data structure. The lab guides you through creating and manipulating Series using various methods. The Series is a fundamental component in data analysis with Pandas, offering a one-dimensional labeled array capable of holding various data types.\n",
    "\n",
    "Each example provides a clear demonstration of a specific concept."
   ]
  },
  {
   "cell_type": "markdown",
   "id": "e7d4f157",
   "metadata": {},
   "source": [
    "Example 1: \n",
    "\n",
    "Creating Panda Series from Dictionary"
   ]
  },
  {
   "cell_type": "code",
   "execution_count": null,
   "id": "f3424782",
   "metadata": {},
   "outputs": [
    {
     "data": {
      "text/plain": [
       "b      1\n",
       "a      0\n",
       "c      2\n",
       "d    100\n",
       "dtype: int64"
      ]
     },
     "execution_count": 6,
     "metadata": {},
     "output_type": "execute_result"
    }
   ],
   "source": [
    "# Example 1.1\n",
    "import pandas as pd \n",
    "d = {\"b\":1, \"a\":0, \"c\":2, \"d\":100}\n",
    "pd.Series(d)"
   ]
  },
  {
   "cell_type": "code",
   "execution_count": null,
   "id": "17cf1cc5",
   "metadata": {},
   "outputs": [
    {
     "data": {
      "text/plain": [
       "a    0.0\n",
       "b    1.0\n",
       "c    2.0\n",
       "dtype: float64"
      ]
     },
     "execution_count": 7,
     "metadata": {},
     "output_type": "execute_result"
    }
   ],
   "source": [
    "# Example 1.2\n",
    "import pandas as pd\n",
    "d = {\"a\": 0.0, \"b\": 1.0, \"c\": 2.0}\n",
    "pd.Series(d)"
   ]
  },
  {
   "cell_type": "code",
   "execution_count": null,
   "id": "298bc9e1",
   "metadata": {},
   "outputs": [
    {
     "data": {
      "text/plain": [
       "b    1.0\n",
       "c    2.0\n",
       "d    NaN\n",
       "a    0.0\n",
       "dtype: float64"
      ]
     },
     "execution_count": 8,
     "metadata": {},
     "output_type": "execute_result"
    }
   ],
   "source": [
    "# Example 1.3\n",
    "pd.Series(d, index=[\"b\", \"c\", \"d\", \"a\"])"
   ]
  },
  {
   "cell_type": "markdown",
   "id": "0fb2788a",
   "metadata": {},
   "source": [
    "Example 2: \n",
    "\n",
    "Key/Value Objects as Series"
   ]
  },
  {
   "cell_type": "code",
   "execution_count": null,
   "id": "1b480a99",
   "metadata": {},
   "outputs": [
    {
     "name": "stdout",
     "output_type": "stream",
     "text": [
      "day1    420\n",
      "day2    380\n",
      "day3    390\n",
      "dtype: int64\n"
     ]
    }
   ],
   "source": [
    "# Example 2.1\n",
    "# Note: The keys of the dictionary become the labels.\n",
    "import pandas as pd\n",
    "\n",
    "calories = {\"day1\": 420, \"day2\": 380, \"day3\": 390}\n",
    "\n",
    "myvar = pd.Series(calories)\n",
    "\n",
    "print(myvar)"
   ]
  },
  {
   "cell_type": "code",
   "execution_count": 10,
   "id": "b6ae3289",
   "metadata": {},
   "outputs": [
    {
     "name": "stdout",
     "output_type": "stream",
     "text": [
      "day1    420\n",
      "day2    380\n",
      "dtype: int64\n"
     ]
    }
   ],
   "source": [
    "# Example 2.2\n",
    "# To select only some of the items in the dictionary, use the index argument and specify only the items you want to include in the Series.\n",
    "# Create a Series using only data from \"day1\" and \"day2\":\n",
    "\n",
    "calories = {\"day1\": 420, \"day2\": 380, \"day3\": 390}\n",
    "myvar = pd.Series(calories, index = [\"day1\", \"day2\"])\n",
    "print(myvar)"
   ]
  },
  {
   "cell_type": "markdown",
   "id": "6d9f40a5",
   "metadata": {},
   "source": [
    "Example 3:\n",
    "\n",
    "Creating Panda Series from Scalar Value\n",
    "\n",
    "If data is a scalar value, an index must be provided. The value will be repeated to match the length of the index."
   ]
  },
  {
   "cell_type": "code",
   "execution_count": 11,
   "id": "877747ec",
   "metadata": {},
   "outputs": [
    {
     "data": {
      "text/plain": [
       "a    5.0\n",
       "b    5.0\n",
       "c    5.0\n",
       "d    5.0\n",
       "e    5.0\n",
       "dtype: float64"
      ]
     },
     "execution_count": 11,
     "metadata": {},
     "output_type": "execute_result"
    }
   ],
   "source": [
    "pd.Series(5.0, index=[\"a\", \"b\", \"c\", \"d\", \"e\"])"
   ]
  }
 ],
 "metadata": {
  "kernelspec": {
   "display_name": "Python 3",
   "language": "python",
   "name": "python3"
  },
  "language_info": {
   "codemirror_mode": {
    "name": "ipython",
    "version": 3
   },
   "file_extension": ".py",
   "mimetype": "text/x-python",
   "name": "python",
   "nbconvert_exporter": "python",
   "pygments_lexer": "ipython3",
   "version": "3.13.2"
  }
 },
 "nbformat": 4,
 "nbformat_minor": 5
}

{
 "cells": [
  {
   "cell_type": "markdown",
   "id": "31c96277",
   "metadata": {},
   "source": [
    "We observed in the last lab that a few of the movie names were a complete clutter. Print them out once more now:"
   ]
  },
  {
   "cell_type": "code",
   "execution_count": null,
   "id": "e840a7bd",
   "metadata": {},
   "outputs": [
    {
     "name": "stdout",
     "output_type": "stream",
     "text": [
      "{'favorite': 'True', 'title': 'Indiana Jones: The raiders of the lost Ark'}\n",
      "{'favorite': 'True', 'title': 'THE KARATE KID'}\n",
      "{'favorite': 'False', 'title': 'Back 2 the Future'}\n",
      "{'favorite': 'False', 'title': 'X-Men'}\n",
      "{'favorite': 'True', 'title': 'Batman Returns'}\n",
      "{'favorite': 'False', 'title': 'Reservoir Dogs'}\n",
      "{'favorite': 'False', 'title': 'ALIEN'}\n",
      "{'favorite': 'True', 'title': \"Ferris Bueller's Day Off\"}\n",
      "{'favorite': 'FALSE', 'title': 'American Psycho'}\n"
     ]
    }
   ],
   "source": [
    "\n",
    "import xml.etree.ElementTree as ET\n",
    "\n",
    "# Parse XML file\n",
    "xml_tree = ET.parse(r\"C:\\Users\\malik.alston\\Desktop\\Data\\movie.xml\")\n",
    "\n",
    "# Get root element\n",
    "xml_root = xml_tree.getroot()\n",
    "\n",
    "# Loop through each 'movie' element and print its attributes\n",
    "for movie in xml_root.iter('movie'):\n",
    "    print(movie.attrib)"
   ]
  },
  {
   "cell_type": "markdown",
   "id": "cfde7c10",
   "metadata": {},
   "source": [
    "Let's fix the '2' in Back 2 the Future. That should be a find and replace problem.\n",
    "\n",
    "Let's write code to find the title 'Back 2 the Future' and save it as a variable."
   ]
  },
  {
   "cell_type": "code",
   "execution_count": null,
   "id": "c17b001f",
   "metadata": {},
   "outputs": [
    {
     "name": "stdout",
     "output_type": "stream",
     "text": [
      "-----------Before------\n",
      "{'favorite': 'False', 'title': 'Back 2 the Future'}\n"
     ]
    }
   ],
   "source": [
    "# Print a visual separator to indicate the \"Before\" state\n",
    "print(\"-----------Before------\")\n",
    "# Loop through all <movie> elements that have the title \"Back 2 the Future\"\n",
    "for movie in xml_root.findall(\"./genre/decade/movie[@title='Back 2 the Future']\"):\n",
    "   # Print the attributes of each matching movie (as a dictionary)\n",
    "   # Will print out: {'favorite': 'False', 'title': 'Back 2 the Future'}\n",
    "   print(movie.attrib)"
   ]
  },
  {
   "cell_type": "code",
   "execution_count": null,
   "id": "59e88ad4",
   "metadata": {},
   "outputs": [
    {
     "name": "stdout",
     "output_type": "stream",
     "text": [
      "-----------After------\n",
      "{'favorite': 'False', 'title': 'Back to the Future'}\n"
     ]
    }
   ],
   "source": [
    "# Find the first <movie> element with the title \"Back 2 the Future\"\n",
    "b2tf = xml_root.find(\"./genre/decade/movie[@title='Back 2 the Future']\")\n",
    "# Print a visual separator to indicate the \"After\" state\n",
    "print(\"-----------After------\")\n",
    "# Update the \"title\" attribute of the found movie to \"Back to the Future\"\n",
    "b2tf.attrib[\"title\"] = \"Back to the Future\"\n",
    "# Print the updated attributes of the movie to confirm the change\n",
    "#Will print out {'favorite': 'False', 'title': 'Back to the Future'}\n",
    "print(b2tf.attrib)"
   ]
  },
  {
   "cell_type": "markdown",
   "id": "05b00cc0",
   "metadata": {},
   "source": [
    "Permanently write in the document\n",
    "Write out your changes back to the XML so they are permanently fixed in the document. Print out your movie attributes again to make sure your changes worked. Use the .write() method to do this:"
   ]
  },
  {
   "cell_type": "code",
   "execution_count": 16,
   "id": "293b4a16",
   "metadata": {},
   "outputs": [],
   "source": [
    "# Import the xml.etree.ElementTree module for XML parsing\n",
    "import xml.etree.ElementTree as ET\n",
    "\n",
    "# Parse the XML file \"movie.xml\" and get the root element of the tree\n",
    "tree = ET.parse(r\"C:\\Users\\malik.alston\\Desktop\\Data\\movie.xml\")\n",
    "root = tree.getroot()\n",
    "\n",
    "# Find the first <movie> element where the title is \"Back 2 the Future\"\n",
    "element = root.find(\"./genre/decade/movie[@title='Back 2 the Future']\")\n",
    "\n",
    "# Change the \"title\" attribute of the found movie element to \"Back to the Future\"\n",
    "element.attrib[\"title\"] = \"Back to the Future\"\n",
    "\n",
    "# Save the modified XML structure to a new file \"movie_new.xml\"\n",
    "tree.write(\"movie_new.xml\")\n"
   ]
  },
  {
   "cell_type": "markdown",
   "id": "9a61e9f7",
   "metadata": {},
   "source": []
  },
  {
   "cell_type": "markdown",
   "id": "e6607c88",
   "metadata": {},
   "source": [
    "Once you run the above program, movie_new.xml will be created along with modified data.\n",
    "\n",
    "Let's print the movie_new.xml file for the final result."
   ]
  },
  {
   "cell_type": "code",
   "execution_count": null,
   "id": "946818a0",
   "metadata": {},
   "outputs": [
    {
     "name": "stdout",
     "output_type": "stream",
     "text": [
      "{'favorite': 'True', 'title': 'Indiana Jones: The raiders of the lost Ark'}\n",
      "{'favorite': 'True', 'title': 'THE KARATE KID'}\n",
      "{'favorite': 'False', 'title': 'Back to the Future'}\n",
      "{'favorite': 'False', 'title': 'X-Men'}\n",
      "{'favorite': 'True', 'title': 'Batman Returns'}\n",
      "{'favorite': 'False', 'title': 'Reservoir Dogs'}\n",
      "{'favorite': 'False', 'title': 'ALIEN'}\n",
      "{'favorite': 'True', 'title': \"Ferris Bueller's Day Off\"}\n",
      "{'favorite': 'FALSE', 'title': 'American Psycho'}\n"
     ]
    }
   ],
   "source": [
    "\n",
    "import xml.etree.ElementTree as ET\n",
    "\n",
    "# Parse the XML file 'movie_new.xml' and create an ElementTree object\n",
    "# This reads the XML file into memory, and 'xml_tree' holds the entire XML structure\n",
    "xml_tree = ET.parse('movie_new.xml')\n",
    "\n",
    "# Get the root element of the XML tree, which represents the top-level XML element\n",
    "# The 'xml_root' will now hold the root of the XML document (for example, <root> if your XML starts with <root>...</root>)\n",
    "xml_root = xml_tree.getroot()\n",
    "\n",
    "# Iterate through all <movie> elements in the XML tree\n",
    "# The iter() function will return all <movie> elements, even if they are deeply nested\n",
    "for movie in xml_root.iter('movie'):\n",
    "    # Print the attributes of each <movie> element\n",
    "    # The 'attrib' property gives a dictionary of the element's attributes, e.g., {'title': 'Back 2 the Future', 'year': '1985'}\n",
    "    print(movie.attrib)"
   ]
  }
 ],
 "metadata": {
  "kernelspec": {
   "display_name": "Python 3",
   "language": "python",
   "name": "python3"
  },
  "language_info": {
   "codemirror_mode": {
    "name": "ipython",
    "version": 3
   },
   "file_extension": ".py",
   "mimetype": "text/x-python",
   "name": "python",
   "nbconvert_exporter": "python",
   "pygments_lexer": "ipython3",
   "version": "3.13.2"
  }
 },
 "nbformat": 4,
 "nbformat_minor": 5
}

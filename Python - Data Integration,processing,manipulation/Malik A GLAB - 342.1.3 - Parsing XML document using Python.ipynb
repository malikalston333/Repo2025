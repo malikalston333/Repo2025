{
 "cells": [
  {
   "cell_type": "markdown",
   "id": "18957d0b",
   "metadata": {},
   "source": [
    "The xml.etree.ElementTree module provides a simple and effective way to parse and create XML data.\n",
    "\n",
    "We can get the list of attributes and their values in the root tag. Once we find the attributes, it helps us navigate the XML tree easily.\n",
    "\n",
    "The parse(“file.xml”) function takes XML file format to parse it. Take a look - The getroot() method returns the root element of ‘my_document.xml’.\n",
    "We can also filter the results out of the xml tree by using the findall() function of this module."
   ]
  },
  {
   "cell_type": "code",
   "execution_count": null,
   "id": "1d76badd",
   "metadata": {},
   "outputs": [
    {
     "name": "stdout",
     "output_type": "stream",
     "text": [
      "collection\n",
      "[]\n",
      "print name of the Child Elements:\n",
      "genre {'category': 'Action'}\n",
      "genre {'category': 'Thriller'}\n"
     ]
    }
   ],
   "source": [
    "import xml.etree.ElementTree as ET\n",
    "#importing python's built in module for xml\n",
    "\n",
    "xml_tree = ET.parse(r\"C:\\Users\\malik.alston\\Desktop\\Data\\movie.xml\")\n",
    "#parse xml file\n",
    "\n",
    "xml_root = xml_tree.getroot()\n",
    "#get root element\n",
    "#getting the root element in xml means accessing the top level tag  that contains all other elements in the xml structure\n",
    "#when you parse xml in python, you get a tree-like structure. To start working with or navigating that structure, you begin at the root.\n",
    "\n",
    "print(xml_root.tag)\n",
    "#prints the top level tag which is collection\n",
    "\n",
    "print('print name of the Child Elements:')\n",
    "for child in xml_root:\n",
    "      print(child.tag, child.attrib)"
   ]
  },
  {
   "cell_type": "markdown",
   "id": "97baf976",
   "metadata": {},
   "source": [
    "root.tag will return the tag name of the XML element represented by the root variable, as shown in the below code example.\n",
    "\n",
    "root.attrib is used to access the attributes of an XML element, as shown in the below code example."
   ]
  },
  {
   "cell_type": "code",
   "execution_count": 10,
   "id": "d242c168",
   "metadata": {},
   "outputs": [
    {
     "data": {
      "text/plain": [
       "['collection',\n",
       " 'genre',\n",
       " 'decade',\n",
       " 'movie',\n",
       " 'format',\n",
       " 'year',\n",
       " 'rating',\n",
       " 'description',\n",
       " 'movie',\n",
       " 'format',\n",
       " 'year',\n",
       " 'rating',\n",
       " 'description',\n",
       " 'movie',\n",
       " 'format',\n",
       " 'year',\n",
       " 'rating',\n",
       " 'description',\n",
       " 'decade',\n",
       " 'movie',\n",
       " 'format',\n",
       " 'year',\n",
       " 'rating',\n",
       " 'description',\n",
       " 'movie',\n",
       " 'format',\n",
       " 'year',\n",
       " 'rating',\n",
       " 'description',\n",
       " 'movie',\n",
       " 'format',\n",
       " 'year',\n",
       " 'rating',\n",
       " 'description',\n",
       " 'genre',\n",
       " 'decade',\n",
       " 'movie',\n",
       " 'format',\n",
       " 'year',\n",
       " 'rating',\n",
       " 'description',\n",
       " 'decade',\n",
       " 'movie',\n",
       " 'format',\n",
       " 'year',\n",
       " 'rating',\n",
       " 'description',\n",
       " 'movie',\n",
       " 'format',\n",
       " 'year',\n",
       " 'rating',\n",
       " 'description']"
      ]
     },
     "execution_count": 10,
     "metadata": {},
     "output_type": "execute_result"
    }
   ],
   "source": [
    "[elem.tag for elem in xml_root.iter()]"
   ]
  },
  {
   "cell_type": "markdown",
   "id": "b2983aca",
   "metadata": {},
   "source": [
    "Now you know that the children of the root collection are all genre. To designate the genre, the XML uses the attribute category. There are Action, Thriller, and Comedy movies according the genre element.\n",
    "\n",
    "Typically it is helpful to know all the elements in the entire tree. One useful function for doing that is root.iter(). You can put this function into a \"for\" loop and it will iterate over the entire tree."
   ]
  },
  {
   "cell_type": "markdown",
   "id": "76a28689",
   "metadata": {},
   "source": [
    "This gives a general notion for how many elements you have, but it does not show the attributes or levels in the tree.\n",
    "\n",
    "There is a helpful way to see the whole document. Any element has a .tostring() method. If you pass the root into the .tostring() method, you can return the whole document. Within ElementTree (remember aliased as ET), .tostring() takes a slightly strange form.\n",
    "\n",
    "Since ElementTree is a powerful library that can interpret more than just XML, you must specify both the encoding and decoding of the document you are displaying as the string. For XMLs, use 'utf8' - this is the typical document format type for an XML."
   ]
  },
  {
   "cell_type": "code",
   "execution_count": 11,
   "id": "6d4c2106",
   "metadata": {},
   "outputs": [
    {
     "name": "stdout",
     "output_type": "stream",
     "text": [
      "<?xml version='1.0' encoding='utf8'?>\n",
      "<collection>\n",
      "    <genre category=\"Action\">\n",
      "        <decade years=\"1980s\">\n",
      "            <movie favorite=\"True\" title=\"Indiana Jones: The raiders of the lost Ark\">\n",
      "                <format multiple=\"No\">DVD</format>\n",
      "                <year>1981</year>\n",
      "                <rating>PG</rating>\n",
      "                <description>\n",
      "                'Archaeologist and adventurer Indiana Jones \n",
      "                is hired by the U.S. government to find the Ark of the \n",
      "                Covenant before the Nazis.'\n",
      "                </description>\n",
      "            </movie>\n",
      "            <movie favorite=\"True\" title=\"THE KARATE KID\">\n",
      "                <format multiple=\"Yes\">DVD,Online</format>\n",
      "                <year>1984</year>\n",
      "                <rating>PG</rating>\n",
      "                <description>None provided.</description>\n",
      "            </movie>\n",
      "            <movie favorite=\"False\" title=\"Back 2 the Future\">\n",
      "                <format multiple=\"False\">Blu-ray</format>\n",
      "                <year>1985</year>\n",
      "                <rating>PG</rating>\n",
      "                <description>Marty McFly</description>\n",
      "            </movie>\n",
      "        </decade>\n",
      "        <decade years=\"1990s\">\n",
      "            <movie favorite=\"False\" title=\"X-Men\">\n",
      "                <format multiple=\"Yes\">dvd, digital</format>\n",
      "                <year>2000</year>\n",
      "                <rating>PG-13</rating>\n",
      "                <description>Two mutants come to a private academy for their kind whose resident superhero team must oppose a terrorist organization with similar powers.</description>\n",
      "            </movie>\n",
      "            <movie favorite=\"True\" title=\"Batman Returns\">\n",
      "                <format multiple=\"No\">VHS</format>\n",
      "                <year>1992</year>\n",
      "                <rating>PG13</rating>\n",
      "                <description>NA.</description>\n",
      "            </movie>\n",
      "            <movie favorite=\"False\" title=\"Reservoir Dogs\">\n",
      "                <format multiple=\"No\">Online</format>\n",
      "                <year>1992</year>\n",
      "                <rating>R</rating>\n",
      "                <description>WhAtEvER I Want!!!?!</description>\n",
      "            </movie>\n",
      "        </decade>\n",
      "    </genre>\n",
      "    <genre category=\"Thriller\">\n",
      "        <decade years=\"1970s\">\n",
      "            <movie favorite=\"False\" title=\"ALIEN\">\n",
      "                <format multiple=\"Yes\">DVD</format>\n",
      "                <year>1979</year>\n",
      "                <rating>R</rating>\n",
      "                <description>fhfdh</description>\n",
      "            </movie>\n",
      "        </decade>\n",
      "        <decade years=\"1980s\">\n",
      "            <movie favorite=\"True\" title=\"Ferris Bueller's Day Off\">\n",
      "                <format multiple=\"No\">DVD</format>\n",
      "                <year>1986</year>\n",
      "                <rating>PG13</rating>\n",
      "                <description>Funny movie about a funny guy</description>\n",
      "            </movie>\n",
      "            <movie favorite=\"FALSE\" title=\"American Psycho\">\n",
      "                <format multiple=\"No\">blue-ray</format>\n",
      "                <year>2000</year>\n",
      "                <rating>Unrated</rating>\n",
      "                <description>psychopathic Bateman</description>\n",
      "            </movie>\n",
      "        </decade>\n",
      "    </genre>\n",
      "</collection>\n"
     ]
    }
   ],
   "source": [
    "print(ET.tostring(xml_root, encoding='utf8').decode('utf8'))"
   ]
  },
  {
   "cell_type": "markdown",
   "id": "a47f7860",
   "metadata": {},
   "source": [
    "You can expand the use of the iter() function to help with finding particular elements of interest. root.iter() will list all subelements under the root that match the element specified. Here, you will list all attributes of the movie element in the tree:"
   ]
  },
  {
   "cell_type": "code",
   "execution_count": 12,
   "id": "7246ed0b",
   "metadata": {},
   "outputs": [
    {
     "name": "stdout",
     "output_type": "stream",
     "text": [
      "{'favorite': 'True', 'title': 'Indiana Jones: The raiders of the lost Ark'}\n",
      "{'favorite': 'True', 'title': 'THE KARATE KID'}\n",
      "{'favorite': 'False', 'title': 'Back 2 the Future'}\n",
      "{'favorite': 'False', 'title': 'X-Men'}\n",
      "{'favorite': 'True', 'title': 'Batman Returns'}\n",
      "{'favorite': 'False', 'title': 'Reservoir Dogs'}\n",
      "{'favorite': 'False', 'title': 'ALIEN'}\n",
      "{'favorite': 'True', 'title': \"Ferris Bueller's Day Off\"}\n",
      "{'favorite': 'FALSE', 'title': 'American Psycho'}\n"
     ]
    }
   ],
   "source": [
    "for movie in xml_root.iter('movie'):\n",
    "  print(movie.attrib)\n"
   ]
  }
 ],
 "metadata": {
  "kernelspec": {
   "display_name": "Python 3",
   "language": "python",
   "name": "python3"
  },
  "language_info": {
   "codemirror_mode": {
    "name": "ipython",
    "version": 3
   },
   "file_extension": ".py",
   "mimetype": "text/x-python",
   "name": "python",
   "nbconvert_exporter": "python",
   "pygments_lexer": "ipython3",
   "version": "3.13.2"
  }
 },
 "nbformat": 4,
 "nbformat_minor": 5
}

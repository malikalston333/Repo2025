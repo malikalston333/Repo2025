{
 "cells": [
  {
   "cell_type": "markdown",
   "id": "bc113a52",
   "metadata": {},
   "source": [
    "Example: 1: File Handling with Python\n",
    "\n",
    "Demonstrate how to open and close files using the open() and close() functions.\n",
    "\n",
    "Show how to perform read and write operations on text files.\n",
    "\n",
    "Explain how to work with binary files using Python.\n",
    "\n",
    "Introduce Python's OS module for file-related operations such as directory manipulation.\n",
    "\n",
    "Here is an example of how the above instructions work:\n"
   ]
  },
  {
   "cell_type": "code",
   "execution_count": null,
   "id": "ca87874c",
   "metadata": {},
   "outputs": [],
   "source": [
    "# --- Opening and Writing to a Text File ---\n",
    "try:\n",
    "    # Set the path and name of the file\n",
    "    file_path = \"sample.txt\"\n",
    "    \n",
    "    # Open the file in \"w\" mode (write mode) — creates the file if it doesn't exist\n",
    "    file = open(file_path, \"w\")\n",
    "    \n",
    "    # Write some lines of text to the file\n",
    "    file.write(\"Hello, World!\\n\")\n",
    "    file.write(\"This is a sample text file.\\n\")\n",
    "    \n",
    "    # Always close the file when done writing\n",
    "    file.close()\n",
    "    \n",
    "    # Let the user know the file was saved\n",
    "    print(f\"File '{file_path}' has been written and closed.\")\n",
    "\n",
    "# Catch any file-related errors (like if the file can't be opened)\n",
    "except IOError as e:\n",
    "    print(f\"An error occurred: {e}\")"
   ]
  },
  {
   "cell_type": "markdown",
   "id": "b1625f1b",
   "metadata": {},
   "source": [
    "# --- Reading from a Text File ---"
   ]
  },
  {
   "cell_type": "code",
   "execution_count": null,
   "id": "4d815cfc",
   "metadata": {},
   "outputs": [],
   "source": [
    "try:\n",
    "    # Open the file in \"r\" mode (read mode)\n",
    "    file = open(file_path, \"r\")\n",
    "    \n",
    "    # Print a label for the output\n",
    "    print(\"\\nFile Contents:\")\n",
    "    \n",
    "    # Read and print each line in the file\n",
    "    for line in file:\n",
    "        print(line.strip())  # .strip() removes extra whitespace and newlines\n",
    "\n",
    "    # Close the file after reading\n",
    "    file.close()\n",
    "\n",
    "    except IOError as e:\n",
    "    print(f\"An error occurred: {e}\")"
   ]
  },
  {
   "cell_type": "markdown",
   "id": "d20420c6",
   "metadata": {},
   "source": [
    "# --- Working with Directories ---"
   ]
  },
  {
   "cell_type": "code",
   "execution_count": null,
   "id": "28ad8a61",
   "metadata": {},
   "outputs": [],
   "source": [
    "try:\n",
    "    # Name of the new directory to create\n",
    "    new_directory = \"my_directory\"\n",
    "    \n",
    "    # Create a new directory\n",
    "    os.mkdir(new_directory)\n",
    "    print(f\"\\nDirectory '{new_directory}' has been created.\")\n",
    "    \n",
    "    # Rename the directory\n",
    "    renamed_directory = \"renamed_directory\"\n",
    "    os.rename(new_directory, renamed_directory)\n",
    "    print(f\"Directory has been renamed to '{renamed_directory}'\")\n",
    "    \n",
    "    # Remove the renamed directory\n",
    "    os.rmdir(renamed_directory)\n",
    "    print(f\"Directory '{renamed_directory}' has been removed.\")\n",
    "\n",
    "# Catch errors related to directory operations\n",
    "except OSError as e:\n",
    "    print(f\"An error occurred: {e}\")"
   ]
  },
  {
   "cell_type": "markdown",
   "id": "9890811f",
   "metadata": {},
   "source": [
    "# --- Working with Files Using the os Module ---"
   ]
  },
  {
   "cell_type": "code",
   "execution_count": null,
   "id": "423bea2e",
   "metadata": {},
   "outputs": [],
   "source": [
    "import os  # os provides tools for interacting with the file system\n",
    "\n",
    "# Check if the text file exists\n",
    "if os.path.exists(file_path):\n",
    "    print(f\"\\nThe file '{file_path}' exists.\")\n",
    "    \n",
    "    # Get and print the size of the file in bytes\n",
    "    file_size = os.path.getsize(file_path)\n",
    "    print(f\"File size: {file_size} bytes\")\n",
    "    \n",
    "    # Rename the file to something new\n",
    "    new_file_path = \"renamed_sample.txt\"\n",
    "    os.rename(file_path, new_file_path)\n",
    "    print(f\"File has been renamed to '{new_file_path}'\")\n",
    "    \n",
    "    # Delete the file\n",
    "    os.remove(new_file_path)\n",
    "    print(f\"File '{new_file_path}' has been deleted.\")\n",
    "else:\n",
    "    print(f\"\\nThe file '{file_path}' does not exist.\")"
   ]
  },
  {
   "cell_type": "markdown",
   "id": "f826bc9e",
   "metadata": {},
   "source": [
    "# --- Writing to a Binary File ---"
   ]
  },
  {
   "cell_type": "code",
   "execution_count": null,
   "id": "c4a8f585",
   "metadata": {},
   "outputs": [],
   "source": [
    "try:\n",
    "    # Set the name for the binary file\n",
    "    binary_file_path = \"sample.bin\"\n",
    "    \n",
    "    # Open the file in binary write mode (\"wb\")\n",
    "    binary_file = open(binary_file_path, \"wb\")\n",
    "    \n",
    "    # Write binary data to the file — these are the bytes for 'A', 'B', and 'C'\n",
    "    binary_file.write(bytes([65, 66, 67]))\n",
    "    \n",
    "    # Close the binary file\n",
    "    binary_file.close()\n",
    "    \n",
    "    # Let the user know it worked\n",
    "    print(f\"Binary file '{binary_file_path}' has been written and closed.\")\n",
    "\n",
    "# Catch errors related to binary file handling\n",
    "except IOError as e:\n",
    "    print(f\"An error occurred: {e}\")"
   ]
  }
 ],
 "metadata": {
  "kernelspec": {
   "display_name": "Python 3",
   "language": "python",
   "name": "python3"
  },
  "language_info": {
   "name": "python",
   "version": "3.13.2"
  }
 },
 "nbformat": 4,
 "nbformat_minor": 5
}

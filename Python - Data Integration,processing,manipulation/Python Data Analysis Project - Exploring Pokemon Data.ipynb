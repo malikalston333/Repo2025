{
 "cells": [
  {
   "cell_type": "code",
   "execution_count": 6,
   "id": "56c2b89d",
   "metadata": {},
   "outputs": [
    {
     "name": "stdout",
     "output_type": "stream",
     "text": [
      "Error during request: HTTPSConnectionPool(host='pokeapi.co', port=443): Max retries exceeded with url: /api/v2/pokemon/361/ (Caused by SSLError(SSLCertVerificationError(1, '[SSL: CERTIFICATE_VERIFY_FAILED] certificate verify failed: self-signed certificate in certificate chain (_ssl.c:1028)')))\n",
      "\n",
      "Total Pokémon fetched: 360\n"
     ]
    }
   ],
   "source": [
    "import requests\n",
    "\n",
    "url = \"https://pokeapi.co/api/v2/pokemon\"\n",
    "\n",
    "all_pokemon_details = []\n",
    "\n",
    "try:\n",
    "   \n",
    "    while True:\n",
    "\n",
    "        response = requests.get(url)\n",
    "        response.raise_for_status()\n",
    "        data = response.json()\n",
    "\n",
    "        pokemon_list = data[\"results\"]\n",
    "\n",
    "        if not pokemon_list:\n",
    "            break\n",
    "\n",
    "        for p in pokemon_list:\n",
    "            detailed_response = requests.get(p[\"url\"])\n",
    "            detailed_response.raise_for_status()\n",
    "            detailed_data = detailed_response.json()\n",
    "\n",
    "            all_pokemon_details.append(detailed_data)\n",
    "\n",
    "        if data[\"next\"] is None:\n",
    "            break\n",
    "        \n",
    "        url = data[\"next\"]\n",
    "\n",
    "\n",
    "except requests.RequestException as e:\n",
    "    print(\"Error during request:\", e)\n",
    "\n",
    "print(f\"\\nTotal Pokémon fetched: {len(all_pokemon_details)}\")"
   ]
  }
 ],
 "metadata": {
  "kernelspec": {
   "display_name": "Python 3",
   "language": "python",
   "name": "python3"
  },
  "language_info": {
   "codemirror_mode": {
    "name": "ipython",
    "version": 3
   },
   "file_extension": ".py",
   "mimetype": "text/x-python",
   "name": "python",
   "nbconvert_exporter": "python",
   "pygments_lexer": "ipython3",
   "version": "3.13.2"
  }
 },
 "nbformat": 4,
 "nbformat_minor": 5
}

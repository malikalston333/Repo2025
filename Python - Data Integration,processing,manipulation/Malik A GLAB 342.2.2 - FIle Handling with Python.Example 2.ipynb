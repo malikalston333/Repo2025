{
 "cells": [
  {
   "cell_type": "code",
   "execution_count": null,
   "id": "9bd2caf9",
   "metadata": {},
   "outputs": [],
   "source": [
    "# Import the 'requests' library to make HTTP requests (like calling APIs)\n",
    "import requests\n",
    "\n",
    "# Import the 'json' module to work with JSON data\n",
    "import json\n",
    "\n",
    "# Set the API endpoint — this is a dummy RESTful service that returns a single post\n",
    "api_endpoint = \"https://jsonplaceholder.typicode.com/posts/1\"\n",
    "\n",
    "# Try to connect to the API and retrieve data\n",
    "try:\n",
    "    # Send an HTTP GET request to the API\n",
    "    response = requests.get(api_endpoint)\n",
    "\n",
    "    # Check if the response status code is 200 (which means OK / successful)\n",
    "    if response.status_code == 200:\n",
    "        # Parse the response text (a JSON string) into a Python dictionary\n",
    "        post_data = json.loads(response.text)\n",
    "\n",
    "        # Print out the retrieved data in a readable format\n",
    "        print(\"\\nRetrieved Data:\")\n",
    "        print(f\"User ID: {post_data['userId']}\")   # ID of the user who made the post\n",
    "        print(f\"Post ID: {post_data['id']}\")       # ID of the post itself\n",
    "        print(f\"Title: {post_data['title']}\")      # Title of the post\n",
    "        print(f\"Body: {post_data['body']}\\n\")      # Body/content of the post\n",
    "\n",
    "    else:\n",
    "        # If the request didn't succeed, print the error status code (like 404 or 500)\n",
    "        print(f\"HTTP Error: {response.status_code}\")\n",
    "\n",
    "# Handle problems like no internet, bad URL, timeout, etc.\n",
    "except requests.exceptions.RequestException as e:\n",
    "    print(f\"An error occurred: {e}\")\n"
   ]
  },
  {
   "cell_type": "markdown",
   "id": "e58506f3",
   "metadata": {},
   "source": [
    "# Handling JSON Responses from REST APIs"
   ]
  },
  {
   "cell_type": "code",
   "execution_count": null,
   "id": "9ec05d30",
   "metadata": {},
   "outputs": [],
   "source": [
    "# Let's assume we want to create a new post using the POST method (sending data to the server)\n",
    "\n",
    "# Define the data for the new post (as a Python dictionary)\n",
    "new_post_data = {\n",
    "    \"title\": \"New Post\",  # Title of the new post\n",
    "    \"body\": \"This is a new post created using Python requests.\",  # Content/body of the post\n",
    "    \"userId\": 1  # ID of the user creating the post (assumed to be valid)\n",
    "}\n",
    "\n",
    "# Try sending the POST request\n",
    "try:\n",
    "    # Send an HTTP POST request to the API endpoint with the new post data\n",
    "    # The 'json=' part automatically converts the dictionary to JSON format\n",
    "    post_response = requests.post(api_endpoint, json=new_post_data)\n",
    "    \n",
    "    # A status code of 201 means the post was created successfully\n",
    "    if post_response.status_code == 201:\n",
    "        # Convert the JSON response (the created post) into a Python dictionary\n",
    "        created_post_data = json.loads(post_response.text)\n",
    "\n",
    "        # Print out the details of the newly created post\n",
    "        print(\"\\nCreated Post Data:\")\n",
    "        print(f\"User ID: {created_post_data['userId']}\")   # ID of the user who created the post\n",
    "        print(f\"Post ID: {created_post_data['id']}\")       # ID assigned to the new post\n",
    "        print(f\"Title: {created_post_data['title']}\")      # Title of the post\n",
    "        print(f\"Body: {created_post_data['body']}\\n\")      # Content of the post\n",
    "\n",
    "    else:\n",
    "        # If something went wrong, print the HTTP status code for debugging\n",
    "        print(f\"HTTP Error: {post_response.status_code}\")\n",
    "\n",
    "# Handle connection errors, timeouts, etc.\n",
    "except requests.exceptions.RequestException as e:\n",
    "    print(f\"An error occurred: {e}\")\n"
   ]
  }
 ],
 "metadata": {
  "language_info": {
   "name": "python"
  }
 },
 "nbformat": 4,
 "nbformat_minor": 5
}

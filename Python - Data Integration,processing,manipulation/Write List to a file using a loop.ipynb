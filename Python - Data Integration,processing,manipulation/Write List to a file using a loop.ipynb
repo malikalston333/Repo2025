{
 "cells": [
  {
   "cell_type": "code",
   "execution_count": null,
   "id": "e2c10083",
   "metadata": {},
   "outputs": [
    {
     "name": "stdout",
     "output_type": "stream",
     "text": [
      "Jessa\n",
      "Eric\n",
      "Bob\n",
      "Names have been written to the file.\n"
     ]
    }
   ],
   "source": [
    "def write_names_to_file(names, file_path):\n",
    "    try:\n",
    "        with open(file_path, 'w') as fp:\n",
    "            for item in names:\n",
    "                fp.write(\"%s\\n\" % item)\n",
    "                print(item)\n",
    "            print('Names have been written to the file.')\n",
    "    except Exception as e:\n",
    "        print(f\"An error occurred: {str(e)}\")\n",
    "\n",
    "names = ['Jessa', 'Eric', 'Bob']\n",
    "\n",
    "file_path = r'C:\\Users\\malik.alston\\Desktop\\Data\\my_file.txt'\n",
    "\n",
    "write_names_to_file(names, file_path)"
   ]
  },
  {
   "cell_type": "code",
   "execution_count": 41,
   "id": "72ee4040",
   "metadata": {},
   "outputs": [
    {
     "name": "stdout",
     "output_type": "stream",
     "text": [
      "Jessa\n",
      "Eric\n",
      "Bob\n",
      "\n"
     ]
    }
   ],
   "source": [
    "with open(file_path) as f:\n",
    " print(f.read())"
   ]
  }
 ],
 "metadata": {
  "kernelspec": {
   "display_name": "Python 3",
   "language": "python",
   "name": "python3"
  },
  "language_info": {
   "codemirror_mode": {
    "name": "ipython",
    "version": 3
   },
   "file_extension": ".py",
   "mimetype": "text/x-python",
   "name": "python",
   "nbconvert_exporter": "python",
   "pygments_lexer": "ipython3",
   "version": "3.13.2"
  }
 },
 "nbformat": 4,
 "nbformat_minor": 5
}

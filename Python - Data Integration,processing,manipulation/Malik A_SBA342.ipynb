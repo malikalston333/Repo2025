{
 "cells": [
  {
   "cell_type": "markdown",
   "id": "83987d7a",
   "metadata": {},
   "source": [
    "Task:\n",
    "\n",
    "Create a Python program to filter medical records across all pages based on a doctor's name and diagnosis ID.\n",
    "\n",
    "Define a function named bodyTemperature() with the following parameters:\n",
    "\n",
    "doctorName: A string representing the doctor's name.\n",
    "\n",
    "diagnosisId: An integer representing the diagnosis ID.\n",
    "\n",
    "The `bodyTemperature()` function should return  a list of two integers, representing the integer parts of the minimum and maximum body temperatures found in the filtered records\n"
   ]
  },
  {
   "cell_type": "code",
   "execution_count": 1,
   "id": "1f21f6f2",
   "metadata": {},
   "outputs": [],
   "source": [
    "import requests # Import the requests library to make http requests\n",
    "import json # Import the json library to work with json data"
   ]
  },
  {
   "cell_type": "code",
   "execution_count": null,
   "id": "000c6280",
   "metadata": {},
   "outputs": [
    {
     "name": "stdout",
     "output_type": "stream",
     "text": [
      "Data has been written to 'medical_records.json'.\n"
     ]
    }
   ],
   "source": [
    "def fetch_and_save_medical_records(api_url,file_path): # Function name\n",
    "    try:\n",
    "        all_results = [] # List to hold all the data from every page of results\n",
    "        page = 1\n",
    "        # The list will wil store the data from multiple pages of the api\n",
    "        while True: # Loop to handle pagination (getting data from multiple pages)\n",
    "            response = requests.get(api_url, params={\"page\":page}) # Send an HTTP GET request to the current API URL to fetch data\n",
    "            if response.status_code == 200: # Check if the response status is ok (status code 200 means the request was successful)\n",
    "                data = response.json() # Parse the json data from the response\n",
    "                results = data.get(\"data\", []) # Extract the results from the json data (this contains the actual info)\n",
    "                all_results.extend(results) # Add the results of this page to our all_results list\n",
    "                if page >= data.get(\"total_pages\", 0): # Get the url for the next page\n",
    "                    break # Stop the loop to prevent further requests or infinite loop\n",
    "                page += 1 # Move to next page\n",
    "            else:\n",
    "                print(f\"Failed to retrieve data from: {api_url}\") # If something went wrong with the api request,print this error message\n",
    "                break # Stop the loop to prevent further requests if there's an error\n",
    "        with open(file_path, \"w\") as json_file: # Dump the data list into the file (json)\n",
    "            json.dump(all_results, json_file,) # Saved all collected data to a file\n",
    "        print(f\"Data has been written to '{file_path}'.\") # Prints if data has been written\n",
    "    except FileNotFoundError as e:\n",
    "        print(f\"An error occured while writing to the file: {e}\") # Handles file writing errors\n",
    "    except Exception as e:\n",
    "        print(f\"An unexpected error occured: {e}\") # Catch any unexpected errors\n",
    "api_url = \"https://jsonmock.hackerrank.com/api/medical_records\" # Set API endpoint\n",
    "file_path = \"medical_records.json\" # Set file path for exported file\n",
    "fetch_and_save_medical_records(api_url, file_path) # Call the function\n"
   ]
  },
  {
   "cell_type": "code",
   "execution_count": null,
   "id": "2f7ff213",
   "metadata": {},
   "outputs": [
    {
     "name": "stdout",
     "output_type": "stream",
     "text": [
      "Minimum Body Temperature: 99\n",
      "Maximum Body Temperature: 103\n"
     ]
    }
   ],
   "source": [
    "def bodyTemperature(doctorName, diagnosisId):\n",
    "    try:\n",
    "        with open(\"medical_records.json\",\"r\") as file: # Open and read file from previous created cell\n",
    "            medical_records = json.load(file) # Load file named medical_records\n",
    "\n",
    "        temperatures = [] # Initialize an empty list to store valid temperatures\n",
    "        for record in medical_records: # Loop through each record in the medical records\n",
    "            try:\n",
    "                if record [\"diagnosis\"][\"id\"] == diagnosisId and record[\"doctor\"][\"name\"] == doctorName: # Check if the record matches the provided doctor name and diagnosis id\n",
    "                    temp = record[\"vitals\"][\"bodyTemperature\"] # Retrieve the body temperature\n",
    "                    if temp is not None: # Check if the temperature is not None\n",
    "                        temperatures.append(temp) # Add valid temperature to the list\n",
    "            except Exception as e:\n",
    "                print(f\"An unexpected error occured: {e}\") # Catch any unexpected errors\n",
    "        if not temperatures: # If no valid temperatures were found, return None\n",
    "            return[None,None]\n",
    "        min_temp = int(min(temperatures)) # Calculate the minimum temperatures from the list\n",
    "        max_temp = int(max(temperatures)) # Calculate the maximum temperatures from the list\n",
    "        return [min_temp, max_temp] # Return the min and max temperature values\n",
    "    except Exception as e:\n",
    "        print(f\"An unexpected error occured: {e}\") # Catch any unexpected errors\n",
    "\n",
    "doctor_name = \"Dr Arnold Bullock\" # Test Case Scenario\n",
    "diagnosis_id = 3\n",
    "result = bodyTemperature(doctor_name, diagnosis_id)\n",
    "print(\"Minimum Body Temperature:\", result[0])\n",
    "print(\"Maximum Body Temperature:\", result[1])                                           "
   ]
  }
 ],
 "metadata": {
  "kernelspec": {
   "display_name": "Python 3",
   "language": "python",
   "name": "python3"
  },
  "language_info": {
   "codemirror_mode": {
    "name": "ipython",
    "version": 3
   },
   "file_extension": ".py",
   "mimetype": "text/x-python",
   "name": "python",
   "nbconvert_exporter": "python",
   "pygments_lexer": "ipython3",
   "version": "3.13.2"
  }
 },
 "nbformat": 4,
 "nbformat_minor": 5
}

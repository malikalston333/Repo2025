{
 "cells": [
  {
   "cell_type": "code",
   "execution_count": null,
   "id": "32514696",
   "metadata": {},
   "outputs": [
    {
     "name": "stdout",
     "output_type": "stream",
     "text": [
      "\n",
      "Contact List Application\n",
      "1. Add Contact\n",
      "2. View Contacts\n",
      "3. Quit\n",
      "Kalim has been added to your contacts!\n",
      "\n",
      "Contact List Application\n",
      "1. Add Contact\n",
      "2. View Contacts\n",
      "3. Quit\n",
      "Goodbye!\n"
     ]
    }
   ],
   "source": [
    "# Contact List Application\n",
    "\n",
    "def add_contact():\n",
    "    name = input(\"Enter the contact's name: \")\n",
    "    phone = input(\"Enter the contact's phone number: \")\n",
    "# Write the contact to the file\n",
    "# do not forget to add a file path\n",
    "    with open(\"contacts.txt\", \"a\") as file:\n",
    "        file.write(f\"{name}: {phone}\\n\")\n",
    "    print(f\"{name} has been added to your contacts!\")\n",
    "\n",
    "def view_contacts():\n",
    "    try:\n",
    "        # Read the contacts from the file\n",
    "        # do not forget to add a file path\n",
    "        with open(\"contacts.txt\", \"r\") as file:\n",
    "          # here we are reading the file line by line\n",
    "            contacts = file.readlines()\n",
    "            # if the file is empty then contacts will be an empty list\n",
    "            if not contacts:\n",
    "                print(\"Your contact list is empty.\")\n",
    "            else:\n",
    "                print(\"Your Contact List:\")\n",
    "                for contact in contacts:\n",
    "                  # here we are removing the new line character\n",
    "                  # and printing the contact\n",
    "                    print(contact, end='')\n",
    "    except FileNotFoundError:\n",
    "        print(\"Your contact list is empty.\")\n",
    "\n",
    "def main():\n",
    "    while True:\n",
    "        print(\"\\nContact List Application\")\n",
    "        print(\"1. Add Contact\")\n",
    "        print(\"2. View Contacts\")\n",
    "        print(\"3. Quit\")\n",
    "        choice = input(\"Enter your choice: \")\n",
    "\n",
    "        if choice == \"1\":\n",
    "            add_contact() #runs the function for adding contacts\n",
    "        elif choice == \"2\":\n",
    "            view_contacts() #runs the function for viewing contacts\n",
    "        elif choice == \"3\":\n",
    "            print(\"Goodbye!\") #ends loop after selection\n",
    "            break\n",
    "        else:\n",
    "            print(\"Invalid choice. Please try again.\") #if choice is not 1-3 will display message\n",
    "# Call the main function\n",
    "if __name__ == \"__main__\": \n",
    "    main()"
   ]
  }
 ],
 "metadata": {
  "kernelspec": {
   "display_name": "Python 3",
   "language": "python",
   "name": "python3"
  },
  "language_info": {
   "codemirror_mode": {
    "name": "ipython",
    "version": 3
   },
   "file_extension": ".py",
   "mimetype": "text/x-python",
   "name": "python",
   "nbconvert_exporter": "python",
   "pygments_lexer": "ipython3",
   "version": "3.13.2"
  }
 },
 "nbformat": 4,
 "nbformat_minor": 5
}

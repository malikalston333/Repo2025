{
 "cells": [
  {
   "cell_type": "code",
   "execution_count": 3,
   "id": "eaabb15f",
   "metadata": {},
   "outputs": [
    {
     "name": "stdout",
     "output_type": "stream",
     "text": [
      "Data has been written to 'products_information.json'.\n"
     ]
    }
   ],
   "source": [
    "# Import the necessary libraries\n",
    "import requests  # Used to make HTTP requests to APIs\n",
    "import json      # Used to handle JSON data (parse and write to files)\n",
    "\n",
    "# Define a function to fetch JSON data from an API and save it to a file\n",
    "def fetch_and_save_json_data(api_url, file_path):\n",
    "    try:\n",
    "        # Make an HTTP GET request to the provided API URL\n",
    "        response = requests.get(api_url)\n",
    "\n",
    "        # Check if the request was successful (status code 200 indicates success)\n",
    "        if response.status_code == 200:\n",
    "            # Parse the JSON data from the response\n",
    "            # The response.json() method converts the JSON string into a Python dictionary/list\n",
    "            data = response.json()\n",
    "\n",
    "            # Open the specified file in write mode ('w') to store the JSON data\n",
    "            with open(file_path, \"w\") as json_file:\n",
    "                # Write the parsed JSON data to the file\n",
    "                # json.dump() serializes the Python object (data) into a JSON formatted string\n",
    "                # indent=4 makes the JSON data more readable with an indentation of 4 spaces\n",
    "                json.dump(data, json_file, indent=4)\n",
    "\n",
    "            # Print a message indicating that the data has been successfully written to the file\n",
    "            print(f\"Data has been written to '{file_path}'.\")\n",
    "        else:\n",
    "            # If the status code is not 200, print an error message with the status code\n",
    "            print(f\"Failed to retrieve data. Status code: {response.status_code}\")\n",
    "    \n",
    "    # Handle various potential errors:\n",
    "    except requests.exceptions.RequestException as e:\n",
    "        # If there is an error during the HTTP request (e.g., network issues), print the error\n",
    "        print(f\"An error occurred during the request: {e}\")\n",
    "    \n",
    "    except json.JSONDecodeError as e:\n",
    "        # If there is an error while parsing the JSON data from the response, print the error\n",
    "        print(f\"An error occurred while parsing the JSON response: {e}\")\n",
    "    \n",
    "    except FileNotFoundError as e:\n",
    "        # If there is an issue writing to the file (e.g., the file path is incorrect), print the error\n",
    "        print(f\"An error occurred while writing to the file: {e}\")\n",
    "    \n",
    "    except Exception as e:\n",
    "        # A general exception handler for any other unforeseen errors\n",
    "        print(f\"An unexpected error occurred: {e}\")\n",
    "\n",
    "# Define the API URL that you want to fetch data from\n",
    "api_url_products = \"https://dummyjson.com/products\"  # Example API endpoint for product data\n",
    "\n",
    "# Define the file path where the fetched data will be saved\n",
    "file_path = \"products_information.json\"  # The file will be saved in the current directory\n",
    "\n",
    "# Call the function to fetch data from the API and save it to the specified file\n",
    "fetch_and_save_json_data(api_url_products, file_path)\n"
   ]
  },
  {
   "cell_type": "markdown",
   "id": "3823eb76",
   "metadata": {},
   "source": [
    "Example: Searching for Products from API endpoint\n",
    "\n",
    "The endpoint Api is: https://dummyjson.com/products/search?q=Oil\n",
    "\n",
    "We can search product by any keyword, lets search products by \"Oil\" keyword\n",
    "\n",
    "The following example sends an HTTP GET request to the https://dummyjson.com/products/search?q=Oil API endpoint, we will retrieve products related to a Oil keyword."
   ]
  },
  {
   "cell_type": "code",
   "execution_count": null,
   "id": "71b45af8",
   "metadata": {},
   "outputs": [],
   "source": [
    "# Import the 'requests' library so we can make HTTP requests (like accessing websites or APIs)\n",
    "import requests\n",
    "\n",
    "# Define a function that fetches data from an API and prints it\n",
    "def fetch_and_print_json_data(api_url):\n",
    "    try:\n",
    "        # Use the requests library to send a GET request to the given URL\n",
    "        response = requests.get(api_url)\n",
    "\n",
    "        # Check if the server responded with a \"200 OK\" status (which means success)\n",
    "        if response.status_code == 200:\n",
    "            # Convert (parse) the response from JSON text into a Python dictionary\n",
    "            json_data = response.json()\n",
    "\n",
    "            # Print the data we got from the API\n",
    "            print(json_data)\n",
    "\n",
    "        else:\n",
    "            # If the request failed (not 200), show the status code for debugging\n",
    "            print(f\"Failed to retrieve data. Status code: {response.status_code}\")\n",
    "\n",
    "    # Handle possible connection errors, like no internet or bad URL\n",
    "    except requests.exceptions.RequestException as e:\n",
    "        print(f\"An error occurred during the request: {e}\")\n",
    "\n",
    "    # Handle errors if the response isn't valid JSON\n",
    "    except json.JSONDecodeError as e:\n",
    "        print(f\"An error occurred while parsing the JSON response: {e}\")\n",
    "\n",
    "    # Catch any other unexpected errors\n",
    "    except Exception as e:\n",
    "        print(f\"An unexpected error occurred: {e}\")\n",
    "\n",
    "# The API URL we want to get data from — you can try changing the search word (like ?q=Laptop)\n",
    "api_url = \"https://dummyjson.com/products/search?q=Oil\"\n",
    "\n",
    "# Call the function to actually run it\n",
    "fetch_and_print_json_data(api_url)\n"
   ]
  }
 ],
 "metadata": {
  "kernelspec": {
   "display_name": "Python 3",
   "language": "python",
   "name": "python3"
  },
  "language_info": {
   "codemirror_mode": {
    "name": "ipython",
    "version": 3
   },
   "file_extension": ".py",
   "mimetype": "text/x-python",
   "name": "python",
   "nbconvert_exporter": "python",
   "pygments_lexer": "ipython3",
   "version": "3.13.2"
  }
 },
 "nbformat": 4,
 "nbformat_minor": 5
}

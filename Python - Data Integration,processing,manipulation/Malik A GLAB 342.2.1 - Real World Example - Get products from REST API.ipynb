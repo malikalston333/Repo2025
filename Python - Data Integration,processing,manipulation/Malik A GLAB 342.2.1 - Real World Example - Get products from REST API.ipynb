{
 "cells": [
  {
   "cell_type": "code",
   "execution_count": 7,
   "id": "eaabb15f",
   "metadata": {},
   "outputs": [
    {
     "ename": "ModuleNotFoundError",
     "evalue": "No module named 'requests'",
     "output_type": "error",
     "traceback": [
      "\u001b[31m---------------------------------------------------------------------------\u001b[39m",
      "\u001b[31mModuleNotFoundError\u001b[39m                       Traceback (most recent call last)",
      "\u001b[36mCell\u001b[39m\u001b[36m \u001b[39m\u001b[32mIn[7]\u001b[39m\u001b[32m, line 2\u001b[39m\n\u001b[32m      1\u001b[39m \u001b[38;5;66;03m# Import the necessary libraries\u001b[39;00m\n\u001b[32m----> \u001b[39m\u001b[32m2\u001b[39m \u001b[38;5;28;01mimport\u001b[39;00m\u001b[38;5;250m \u001b[39m\u001b[34;01mrequests\u001b[39;00m  \u001b[38;5;66;03m# Used to make HTTP requests to APIs\u001b[39;00m\n\u001b[32m      3\u001b[39m \u001b[38;5;28;01mimport\u001b[39;00m\u001b[38;5;250m \u001b[39m\u001b[34;01mjson\u001b[39;00m      \u001b[38;5;66;03m# Used to handle JSON data (parse and write to files)\u001b[39;00m\n\u001b[32m      5\u001b[39m \u001b[38;5;66;03m# Define a function to fetch JSON data from an API and save it to a file\u001b[39;00m\n",
      "\u001b[31mModuleNotFoundError\u001b[39m: No module named 'requests'"
     ]
    }
   ],
   "source": [
    "# Import the necessary libraries\n",
    "import requests  # Used to make HTTP requests to APIs\n",
    "import json      # Used to handle JSON data (parse and write to files)\n",
    "\n",
    "# Define a function to fetch JSON data from an API and save it to a file\n",
    "def fetch_and_save_json_data(api_url, file_path):\n",
    "    try:\n",
    "        # Make an HTTP GET request to the provided API URL\n",
    "        response = requests.get(api_url)\n",
    "\n",
    "        # Check if the request was successful (status code 200 indicates success)\n",
    "        if response.status_code == 200:\n",
    "            # Parse the JSON data from the response\n",
    "            # The response.json() method converts the JSON string into a Python dictionary/list\n",
    "            data = response.json()\n",
    "\n",
    "            # Open the specified file in write mode ('w') to store the JSON data\n",
    "            with open(file_path, \"w\") as json_file:\n",
    "                # Write the parsed JSON data to the file\n",
    "                # json.dump() serializes the Python object (data) into a JSON formatted string\n",
    "                # indent=4 makes the JSON data more readable with an indentation of 4 spaces\n",
    "                json.dump(data, json_file, indent=4)\n",
    "\n",
    "            # Print a message indicating that the data has been successfully written to the file\n",
    "            print(f\"Data has been written to '{file_path}'.\")\n",
    "        else:\n",
    "            # If the status code is not 200, print an error message with the status code\n",
    "            print(f\"Failed to retrieve data. Status code: {response.status_code}\")\n",
    "    \n",
    "    # Handle various potential errors:\n",
    "    except requests.exceptions.RequestException as e:\n",
    "        # If there is an error during the HTTP request (e.g., network issues), print the error\n",
    "        print(f\"An error occurred during the request: {e}\")\n",
    "    \n",
    "    except json.JSONDecodeError as e:\n",
    "        # If there is an error while parsing the JSON data from the response, print the error\n",
    "        print(f\"An error occurred while parsing the JSON response: {e}\")\n",
    "    \n",
    "    except FileNotFoundError as e:\n",
    "        # If there is an issue writing to the file (e.g., the file path is incorrect), print the error\n",
    "        print(f\"An error occurred while writing to the file: {e}\")\n",
    "    \n",
    "    except Exception as e:\n",
    "        # A general exception handler for any other unforeseen errors\n",
    "        print(f\"An unexpected error occurred: {e}\")\n",
    "\n",
    "# Define the API URL that you want to fetch data from\n",
    "api_url_products = \"https://dummyjson.com/products\"  # Example API endpoint for product data\n",
    "\n",
    "# Define the file path where the fetched data will be saved\n",
    "file_path = \"products_information.json\"  # The file will be saved in the current directory\n",
    "\n",
    "# Call the function to fetch data from the API and save it to the specified file\n",
    "fetch_and_save_json_data(api_url_products, file_path)\n"
   ]
  }
 ],
 "metadata": {
  "kernelspec": {
   "display_name": "Python 3",
   "language": "python",
   "name": "python3"
  },
  "language_info": {
   "codemirror_mode": {
    "name": "ipython",
    "version": 3
   },
   "file_extension": ".py",
   "mimetype": "text/x-python",
   "name": "python",
   "nbconvert_exporter": "python",
   "pygments_lexer": "ipython3",
   "version": "3.13.2"
  }
 },
 "nbformat": 4,
 "nbformat_minor": 5
}

{
 "cells": [
  {
   "cell_type": "markdown",
   "id": "1df545ca",
   "metadata": {},
   "source": [
    "In order to write into a file in Python, we need to open it in write 'w', append 'a', update '+', or exclusive creation 'x' mode. We need to be careful with the 'w' mode as it will overwrite into the file if it already exists. Writing a string or sequence of bytes (for binary files) is done using write() method. This method returns the number of characters written to the file."
   ]
  },
  {
   "cell_type": "code",
   "execution_count": null,
   "id": "2cb39395",
   "metadata": {},
   "outputs": [],
   "source": [
    "with open ('contacts.txt', mode = 'a', encoding = 'utf-8') as f:\n",
    "    f.write('The first line\\n')\n",
    "\n",
    "    #appending the contacts file and added another line"
   ]
  },
  {
   "cell_type": "markdown",
   "id": "17f68ed4",
   "metadata": {},
   "source": [
    "The above program will create a new file named 'my_file_new.txt' if it does not exist. If it does exist, it is overwritten. We must include the newline characters(\\n) ourselves to distinguish different lines."
   ]
  }
 ],
 "metadata": {
  "kernelspec": {
   "display_name": "Python 3",
   "language": "python",
   "name": "python3"
  },
  "language_info": {
   "codemirror_mode": {
    "name": "ipython",
    "version": 3
   },
   "file_extension": ".py",
   "mimetype": "text/x-python",
   "name": "python",
   "nbconvert_exporter": "python",
   "pygments_lexer": "ipython3",
   "version": "3.13.2"
  }
 },
 "nbformat": 4,
 "nbformat_minor": 5
}

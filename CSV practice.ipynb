{
 "cells": [
  {
   "cell_type": "code",
   "execution_count": 4,
   "id": "c1295466",
   "metadata": {},
   "outputs": [
    {
     "name": "stdout",
     "output_type": "stream",
     "text": [
      "csv file 'Turtles in Time.csv' was created\n"
     ]
    }
   ],
   "source": [
    "import json\n",
    "import csv\n",
    "\n",
    "employees = [[\"Name\", \"Age\", \"Job\"],\n",
    "             [\"Spongebob\", \"30\", \"Cook\"],\n",
    "             [\"Patrick\", \"37\", \"Unemployed\"],\n",
    "             [\"Sandy\", \"27\", \"Scientist\"]]\n",
    "\n",
    "file_path = \"Turtles in Time.csv\"\n",
    "\n",
    "try:\n",
    "    with open(file_path, \"w\", newline=\"\") as file:\n",
    "        writer = csv.writer(file)\n",
    "        for row in employees:\n",
    "            writer.writerow(row)\n",
    "        print(f\"csv file '{file_path}' was created\")\n",
    "except FileExistsError:\n",
    "    print(\"That file already exists\")"
   ]
  }
 ],
 "metadata": {
  "kernelspec": {
   "display_name": "Python 3",
   "language": "python",
   "name": "python3"
  },
  "language_info": {
   "codemirror_mode": {
    "name": "ipython",
    "version": 3
   },
   "file_extension": ".py",
   "mimetype": "text/x-python",
   "name": "python",
   "nbconvert_exporter": "python",
   "pygments_lexer": "ipython3",
   "version": "3.13.2"
  }
 },
 "nbformat": 4,
 "nbformat_minor": 5
}

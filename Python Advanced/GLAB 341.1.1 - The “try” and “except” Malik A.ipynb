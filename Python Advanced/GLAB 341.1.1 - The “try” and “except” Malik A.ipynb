{
 "cells": [
  {
   "cell_type": "markdown",
   "id": "bab0de3a",
   "metadata": {},
   "source": [
    "Problem 1:\n",
    "\n",
    "In the following example, we will ask the user for the denominator value. If the user enters a number, the program will evaluate and produce the result.\n",
    "\n",
    "If the user enters a non-numeric value, the try block will throw a ValueError exception, and we can catch that using a first catch block ‘except ValueError’ by printing the message ‘Entered value is wrong’.\n",
    "\n",
    "And suppose the user enters the denominator as zero. In that case, the try block will throw a ZeroDivisionError, and we can catch that using a second catch block by printing the message ‘Can’t divide by zero’.\n",
    "Output 1:\n",
    "\n",
    "Enter value of a: Ten\n",
    "\n",
    "Entered value is wrong: pizza"
   ]
  },
  {
   "cell_type": "code",
   "execution_count": null,
   "id": "eaa4374b",
   "metadata": {},
   "outputs": [
    {
     "name": "stdout",
     "output_type": "stream",
     "text": [
      "Entered value is wrong\n"
     ]
    }
   ],
   "source": [
    "try:\n",
    "    a = int(input(\"Please enter a value of A\")) #Input for value A\n",
    "    b = int(input(\"Please enter a value of B\")) #Input for value B\n",
    "    c = a/b\n",
    "\n",
    "    print(f\"The answer of a divide by b:\", {c}) #Displayed output of a/b\n",
    "except ValueError: #Input a or b is not an integer displayed message would appear\n",
    "    print(\"Entered value is wrong\")"
   ]
  },
  {
   "cell_type": "markdown",
   "id": "570e0e88",
   "metadata": {},
   "source": [
    "Problem 2:\n",
    "\n",
    "Output 2:\n",
    "\n",
    "Enter value of a:10\n",
    "\n",
    "Enter value of b:0\n",
    "\n",
    "Can't divide by zero"
   ]
  },
  {
   "cell_type": "code",
   "execution_count": 17,
   "id": "ba7b3505",
   "metadata": {},
   "outputs": [
    {
     "name": "stdout",
     "output_type": "stream",
     "text": [
      "I am sorry this is not divisible by zero.\n",
      "Please try different numbers.\n"
     ]
    }
   ],
   "source": [
    "try:\n",
    "    a = int(input(\"Please enter a value of A\")) #Input for value A\n",
    "    b = int(input(\"Please enter a value of B\")) #Input for value B\n",
    "    c = a/b\n",
    "\n",
    "    print(\"The answer of a divide by b:\", c) #Displayed output of a/b\n",
    "except ValueError: #Input a or b is not an integer displayed message would appear\n",
    "    print(\"Entered value is wrong\") #In this instance this except was skipped\n",
    "except ZeroDivisionError: #Error was caught and will display messages below\n",
    "    print(\"I am sorry this is not divisible by zero.\") #Displayed output of zerodivison error\n",
    "    print(\"Please try different numbers.\")"
   ]
  },
  {
   "cell_type": "markdown",
   "id": "28d6982c",
   "metadata": {},
   "source": [
    "Problem 3:\n",
    "\n",
    "Enter value of a:10\n",
    "\n",
    "Enter value of b:2\n",
    "\n",
    "The answer of a divide by b: 5.0"
   ]
  },
  {
   "cell_type": "code",
   "execution_count": null,
   "id": "266e707b",
   "metadata": {},
   "outputs": [
    {
     "name": "stdout",
     "output_type": "stream",
     "text": [
      "The answer of a divide by b: 5.0\n",
      "No errors occured!\n",
      "So for fun I multiplied a and b for you.\n",
      "The answer is 20\n",
      "We have been succesful in our code!\n"
     ]
    }
   ],
   "source": [
    "try:\n",
    "    a = int(input(\"Please enter a value of A\")) #Input for value A\n",
    "    b = int(input(\"Please enter a value of B\")) #Input for value B\n",
    "    c = a/b\n",
    "\n",
    "    print(\"The answer of a divide by b:\", c) #Displayed output of a/b\n",
    "except ValueError: #Input a or b is not an integer displayed message would appear\n",
    "    print(\"Entered value is wrong\") #In this instance this except was skipped\n",
    "except ZeroDivisionError: #Error was caught and will display messages below\n",
    "    print(\"I am sorry this is not divisible by zero.\") #Displayed output of zerodivison error\n",
    "    print(\"Please try different numbers.\")\n",
    "else:\n",
    "    c = a * b #No Exception was caught so for fun let's add another math problem\n",
    "    print(\"No errors occured!\")\n",
    "    print(\"So for fun I multiplied a and b for you.\") #Displayed output for no exceptions received\n",
    "    print(\"The answer is\", c)\n",
    "finally:\n",
    "    print(\"We have been succesful in our code!\") #Finally all is well!\n",
    "    "
   ]
  }
 ],
 "metadata": {
  "kernelspec": {
   "display_name": "Python 3",
   "language": "python",
   "name": "python3"
  },
  "language_info": {
   "codemirror_mode": {
    "name": "ipython",
    "version": 3
   },
   "file_extension": ".py",
   "mimetype": "text/x-python",
   "name": "python",
   "nbconvert_exporter": "python",
   "pygments_lexer": "ipython3",
   "version": "3.13.2"
  }
 },
 "nbformat": 4,
 "nbformat_minor": 5
}

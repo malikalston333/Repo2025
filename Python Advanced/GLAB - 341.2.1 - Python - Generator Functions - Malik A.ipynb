{
 "cells": [
  {
   "cell_type": "markdown",
   "id": "1ef73013",
   "metadata": {},
   "source": [
    "Python - Generator Functions\n",
    "Python provides a generator to create your own iterator function. A generator is a special type of function which does not return a single value, instead, it returns an iterator object with a sequence of values. In a generator function, a yield statement is used rather than a return statement. The following is a simple generator function."
   ]
  },
  {
   "cell_type": "code",
   "execution_count": null,
   "id": "d6d713cf",
   "metadata": {},
   "outputs": [],
   "source": [
    "def my1stgenerator(): # Intialize the generator \n",
    "    print('Blastoise strongest water attack is')\n",
    "    yield 150 # 1st saved value\n",
    "\n",
    "    print('Charizard strongest fire attack is')\n",
    "    yield 330 # 2nd saved value\n",
    "\n",
    "    print('Venusaur strongest plant attack is')\n",
    "    yield 140 # 3rd saved value\n"
   ]
  },
  {
   "cell_type": "markdown",
   "id": "71dadb31",
   "metadata": {},
   "source": [
    "In the above example, the mygenerator() function is a generator function. It uses yield instead of return keyword. So, this will return the value against the yield keyword each time it is called. However, you need to create an iterator for this function, as shown below."
   ]
  },
  {
   "cell_type": "code",
   "execution_count": null,
   "id": "04911f6c",
   "metadata": {},
   "outputs": [
    {
     "name": "stdout",
     "output_type": "stream",
     "text": [
      "Blastoise strongest water attack is\n",
      "150\n",
      "\n",
      "Charizard strongest fire attack is\n",
      "330\n",
      "\n",
      "Venusaur strongest plant attack is\n",
      "140\n"
     ]
    }
   ],
   "source": [
    "gen = my1stgenerator()\n",
    "val = next(gen) # Executes first yield\n",
    "print(val) #prints 1st saved value\n",
    "print()\n",
    "val = next(gen) # Executes second yield\n",
    "print(val) # prints 2nd saved value\n",
    "print()\n",
    "val = next(gen) # Executes third yield\n",
    "print(val) # prints 3rd saved value\n",
    "\n",
    "# if you try to next(gen) after the third yield, you'll get a StopIteration exception.\n",
    "\n",
    "\n",
    "\n"
   ]
  },
  {
   "cell_type": "markdown",
   "id": "627a4ce0",
   "metadata": {},
   "source": [
    "The generator function cannot include the return keyword. If you include it, then it will terminate the function. The difference between yield and return is that yield returns a value and pauses the execution while maintaining the internal states, whereas the return statement returns a value and terminates the execution of the function.\n",
    "\n",
    "The following generator function includes the return keyword."
   ]
  },
  {
   "cell_type": "code",
   "execution_count": null,
   "id": "7f2d05f0",
   "metadata": {},
   "outputs": [],
   "source": [
    "#Example: return in Generator Function\n",
    "def mygenerator():\n",
    "    print('First item')\n",
    "    yield 10\n",
    "\n",
    "    return # The StopIteration ended the generator\n",
    "\n",
    "    print('Second item')\n",
    "    yield 20\n",
    "\n",
    "    print('Last item')\n",
    "    yield 30"
   ]
  },
  {
   "cell_type": "code",
   "execution_count": null,
   "id": "946de32b",
   "metadata": {},
   "outputs": [
    {
     "name": "stdout",
     "output_type": "stream",
     "text": [
      "First item\n",
      "10\n"
     ]
    },
    {
     "ename": "StopIteration",
     "evalue": "",
     "output_type": "error",
     "traceback": [
      "\u001b[31m---------------------------------------------------------------------------\u001b[39m",
      "\u001b[31mStopIteration\u001b[39m                             Traceback (most recent call last)",
      "\u001b[36mCell\u001b[39m\u001b[36m \u001b[39m\u001b[32mIn[18]\u001b[39m\u001b[32m, line 5\u001b[39m\n\u001b[32m      3\u001b[39m val = \u001b[38;5;28mnext\u001b[39m(gen) \u001b[38;5;66;03m#First item\u001b[39;00m\n\u001b[32m      4\u001b[39m \u001b[38;5;28mprint\u001b[39m(val) \u001b[38;5;66;03m#10\u001b[39;00m\n\u001b[32m----> \u001b[39m\u001b[32m5\u001b[39m val = \u001b[38;5;28;43mnext\u001b[39;49m\u001b[43m(\u001b[49m\u001b[43mgen\u001b[49m\u001b[43m)\u001b[49m \u001b[38;5;66;03m#error\u001b[39;00m\n",
      "\u001b[31mStopIteration\u001b[39m: "
     ]
    }
   ],
   "source": [
    "gen = mygenerator()\n",
    "gen = mygenerator()\n",
    "val = next(gen) #First item\n",
    "print(val) #10 was printed but due to the return keyword the generator has ended after this print function\n",
    "val = next(gen) #error"
   ]
  }
 ],
 "metadata": {
  "kernelspec": {
   "display_name": "Python 3",
   "language": "python",
   "name": "python3"
  },
  "language_info": {
   "codemirror_mode": {
    "name": "ipython",
    "version": 3
   },
   "file_extension": ".py",
   "mimetype": "text/x-python",
   "name": "python",
   "nbconvert_exporter": "python",
   "pygments_lexer": "ipython3",
   "version": "3.13.2"
  }
 },
 "nbformat": 4,
 "nbformat_minor": 5
}

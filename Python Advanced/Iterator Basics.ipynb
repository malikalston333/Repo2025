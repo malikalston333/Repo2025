{
 "cells": [
  {
   "cell_type": "markdown",
   "id": "f7544934",
   "metadata": {},
   "source": [
    "When we exhaust all the elements of an iterator by manually calling the next function, there would be no more data to be returned. Calling the next function at that state will raise a StopIteration exception."
   ]
  },
  {
   "cell_type": "code",
   "execution_count": 1,
   "id": "10e20057",
   "metadata": {},
   "outputs": [
    {
     "name": "stdout",
     "output_type": "stream",
     "text": [
      "python\n",
      "java\n",
      "scala\n",
      "javascript\n"
     ]
    },
    {
     "ename": "StopIteration",
     "evalue": "",
     "output_type": "error",
     "traceback": [
      "\u001b[31m---------------------------------------------------------------------------\u001b[39m",
      "\u001b[31mStopIteration\u001b[39m                             Traceback (most recent call last)",
      "\u001b[36mCell\u001b[39m\u001b[36m \u001b[39m\u001b[32mIn[1]\u001b[39m\u001b[32m, line 11\u001b[39m\n\u001b[32m      9\u001b[39m \u001b[38;5;28mprint\u001b[39m(\u001b[38;5;28mnext\u001b[39m(my_iter)) \u001b[38;5;66;03m# prints scala\u001b[39;00m\n\u001b[32m     10\u001b[39m \u001b[38;5;28mprint\u001b[39m(\u001b[38;5;28mnext\u001b[39m(my_iter)) \u001b[38;5;66;03m# prints javascript\u001b[39;00m\n\u001b[32m---> \u001b[39m\u001b[32m11\u001b[39m \u001b[38;5;28mprint\u001b[39m(\u001b[38;5;28;43mnext\u001b[39;49m\u001b[43m(\u001b[49m\u001b[43mmy_iter\u001b[49m\u001b[43m)\u001b[49m) \u001b[38;5;66;03m#Stop Iteration raised\u001b[39;00m\n",
      "\u001b[31mStopIteration\u001b[39m: "
     ]
    }
   ],
   "source": [
    "my_list = ['python', 'java', 'scala', 'javascript']\n",
    "\n",
    "#Create an iterator from the list\n",
    "my_iter = iter(my_list) #Preferred and the pythonic way.\n",
    "# my_iter = my_list.iter_() not preferred way unless really simply\n",
    "\n",
    "print(next(my_iter)) # prints python and how you call each element\n",
    "print(next(my_iter)) # prints java and next element in list\n",
    "print(next(my_iter)) # prints scala\n",
    "print(next(my_iter)) # prints javascript\n",
    "print(next(my_iter)) #Stop Iteration raised\n",
    "\n"
   ]
  },
  {
   "cell_type": "markdown",
   "id": "fa6dc3d6",
   "metadata": {},
   "source": [
    "Common Use Cases for Iterators\n",
    "Iterating over file contents line-by-line.\n",
    "\n",
    "Memory Efficiency: Iterators allow processing large datasets \n",
    "without loading them entirely into memory.\n",
    "\n",
    "Custom data processing pipelines where lazy evaluation is beneficial.\n",
    "\n",
    "Implementing iterable objects in custom classes.\n",
    "\n",
    "Lazy Evaluation: Elements are generated or fetched only when needed.\n"
   ]
  },
  {
   "cell_type": "markdown",
   "id": "b53ff286",
   "metadata": {},
   "source": [
    "Iterator Within For Loop"
   ]
  },
  {
   "cell_type": "code",
   "execution_count": 3,
   "id": "23db02c1",
   "metadata": {},
   "outputs": [
    {
     "name": "stdout",
     "output_type": "stream",
     "text": [
      "python\n",
      "java\n",
      "scala\n",
      "javascript\n"
     ]
    }
   ],
   "source": [
    "my_list = ['python', 'java', 'scala', 'javascript']\n",
    "for words in my_list:\n",
    "    print(words)"
   ]
  },
  {
   "cell_type": "code",
   "execution_count": null,
   "id": "71d11520",
   "metadata": {},
   "outputs": [
    {
     "name": "stdout",
     "output_type": "stream",
     "text": [
      "python\n",
      "java\n",
      "scala\n",
      "javascript\n"
     ]
    }
   ],
   "source": [
    "my_list = ['python', 'java', 'scala', 'javascript']\n",
    "my_iter = iter(my_list) #Creates Iterator\n",
    "while True: # Loop begins\n",
    "    try:\n",
    "        print(next(my_iter)) # Prints out all of the list\n",
    "    except StopIteration:\n",
    "        break"
   ]
  },
  {
   "cell_type": "markdown",
   "id": "4c318c56",
   "metadata": {},
   "source": [
    "An iterator object is an object that defines an __iter__() method that returns itself and a __next__() method that returns the next item in the sequence.\n",
    "The next() function is a built-in Python function that retrieves the next item from an iterator. If the iterator is exhausted, it raises a StopIteration exception."
   ]
  },
  {
   "cell_type": "code",
   "execution_count": null,
   "id": "772f524e",
   "metadata": {},
   "outputs": [],
   "source": [
    "class SimpleIterator:\n",
    "    def __init__(self, data):\n",
    "        self.data = data\n",
    "        self.index = 0\n",
    "\n",
    "    def __iter__(self):\n",
    "        return self\n",
    "    \n",
    "    def __next__(self):\n",
    "        if self.index >= len(self.data):\n",
    "            raise StopIteration\n",
    "        result = self.data[self.index]\n",
    "        self.index +=1\n",
    "        return result\n",
    "    \n",
    "iterator = iter([1, 2, 3,])\n",
    "\n",
    "print(next(iterator)) #Output: 1\n",
    "print(next(iterator)) #Output: 2\n",
    "print(next(iterator)) #Output: 3"
   ]
  }
 ],
 "metadata": {
  "kernelspec": {
   "display_name": "Python 3",
   "language": "python",
   "name": "python3"
  },
  "language_info": {
   "codemirror_mode": {
    "name": "ipython",
    "version": 3
   },
   "file_extension": ".py",
   "mimetype": "text/x-python",
   "name": "python",
   "nbconvert_exporter": "python",
   "pygments_lexer": "ipython3",
   "version": "3.13.2"
  }
 },
 "nbformat": 4,
 "nbformat_minor": 5
}

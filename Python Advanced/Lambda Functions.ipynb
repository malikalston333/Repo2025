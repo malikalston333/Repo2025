{
 "cells": [
  {
   "cell_type": "markdown",
   "id": "2c672555",
   "metadata": {},
   "source": [
    " 1. Simple Math Operation"
   ]
  },
  {
   "cell_type": "code",
   "execution_count": 1,
   "id": "0ff93feb",
   "metadata": {},
   "outputs": [
    {
     "name": "stdout",
     "output_type": "stream",
     "text": [
      "25\n"
     ]
    }
   ],
   "source": [
    "square = lambda x: x ** 2\n",
    "print(square(5))  # Output: 25\n"
   ]
  },
  {
   "cell_type": "markdown",
   "id": "1a39c93c",
   "metadata": {},
   "source": [
    "2. Multiple Arguments"
   ]
  },
  {
   "cell_type": "code",
   "execution_count": null,
   "id": "9c86f889",
   "metadata": {},
   "outputs": [],
   "source": [
    "add = lambda x, y: x + y\n",
    "print(add(3, 4))  # Output: 7\n"
   ]
  },
  {
   "cell_type": "markdown",
   "id": "64b71ec5",
   "metadata": {},
   "source": [
    "3. Sorting with Custom Key"
   ]
  },
  {
   "cell_type": "code",
   "execution_count": null,
   "id": "b4125be5",
   "metadata": {},
   "outputs": [],
   "source": [
    "words = ['apple', 'banana', 'cherry']\n",
    "words.sort(key=lambda x: len(x))\n",
    "print(words)  # Output: ['apple', 'banana', 'cherry'] (sorted by length)\n"
   ]
  },
  {
   "cell_type": "markdown",
   "id": "0f2bf9ff",
   "metadata": {},
   "source": [
    "4. Filtering a List"
   ]
  },
  {
   "cell_type": "code",
   "execution_count": null,
   "id": "8de090a8",
   "metadata": {},
   "outputs": [],
   "source": [
    "nums = [1, 2, 3, 4, 5, 6]\n",
    "even = list(filter(lambda x: x % 2 == 0, nums))\n",
    "print(even)  # Output: [2, 4, 6]\n"
   ]
  },
  {
   "cell_type": "markdown",
   "id": "c47a82eb",
   "metadata": {},
   "source": [
    "5. Mapping a List"
   ]
  },
  {
   "cell_type": "code",
   "execution_count": null,
   "id": "30526c37",
   "metadata": {},
   "outputs": [],
   "source": [
    "nums = [1, 2, 3, 4]\n",
    "squared = list(map(lambda x: x ** 2, nums))\n",
    "print(squared)  # Output: [1, 4, 9, 16]\n"
   ]
  },
  {
   "cell_type": "markdown",
   "id": "5fadf670",
   "metadata": {},
   "source": [
    "6. Using with reduce() (from functools)"
   ]
  },
  {
   "cell_type": "code",
   "execution_count": null,
   "id": "11998d6c",
   "metadata": {},
   "outputs": [],
   "source": [
    "from functools import reduce\n",
    "nums = [1, 2, 3, 4]\n",
    "product = reduce(lambda x, y: x * y, nums)\n",
    "print(product)  # Output: 24\n"
   ]
  },
  {
   "cell_type": "markdown",
   "id": "911433c2",
   "metadata": {},
   "source": [
    "7. Conditional Logic in Lambda"
   ]
  },
  {
   "cell_type": "code",
   "execution_count": null,
   "id": "70e9d118",
   "metadata": {},
   "outputs": [],
   "source": [
    "check_even = lambda x: \"Even\" if x % 2 == 0 else \"Odd\"\n",
    "print(check_even(3))  # Output: Odd\n"
   ]
  },
  {
   "cell_type": "markdown",
   "id": "947e9f13",
   "metadata": {},
   "source": [
    "8. Using with tkinter, pandas, etc. (GUI & Data Analysis)"
   ]
  },
  {
   "cell_type": "code",
   "execution_count": null,
   "id": "9f82113b",
   "metadata": {},
   "outputs": [],
   "source": [
    "# Example with pandas\n",
    "import pandas as pd\n",
    "df = pd.DataFrame({'numbers': [1, 2, 3, 4]})\n",
    "df['double'] = df['numbers'].apply(lambda x: x * 2)\n",
    "print(df)\n"
   ]
  },
  {
   "cell_type": "markdown",
   "id": "2628079b",
   "metadata": {},
   "source": [
    " 9. Dictionary Sorting by Values"
   ]
  },
  {
   "cell_type": "code",
   "execution_count": null,
   "id": "4f791599",
   "metadata": {},
   "outputs": [],
   "source": [
    "my_dict = {'a': 3, 'b': 1, 'c': 2}\n",
    "sorted_items = sorted(my_dict.items(), key=lambda x: x[1])\n",
    "print(sorted_items)  # Output: [('b', 1), ('c', 2), ('a', 3)]\n"
   ]
  }
 ],
 "metadata": {
  "kernelspec": {
   "display_name": "Python 3",
   "language": "python",
   "name": "python3"
  },
  "language_info": {
   "codemirror_mode": {
    "name": "ipython",
    "version": 3
   },
   "file_extension": ".py",
   "mimetype": "text/x-python",
   "name": "python",
   "nbconvert_exporter": "python",
   "pygments_lexer": "ipython3",
   "version": "3.13.2"
  }
 },
 "nbformat": 4,
 "nbformat_minor": 5
}

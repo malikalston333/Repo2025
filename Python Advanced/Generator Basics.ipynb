{
 "cells": [
  {
   "cell_type": "markdown",
   "id": "e806ff94",
   "metadata": {},
   "source": [
    "yield Statement\n",
    "A generator can be created by defining a normal function with a yield statement instead of a return statement. If a function contains at least one yield statement, it becomes a generator function.\n",
    "\n",
    "As we have seen, a return statement completely terminates a function. However, a yield statement pauses the function, saving all of its states, and later continues from there on the following calls.\n",
    "\n",
    "A function may contain multiple yield AND/OR return statements depending on the logic."
   ]
  },
  {
   "cell_type": "markdown",
   "id": "4ec0ada9",
   "metadata": {},
   "source": [
    "Example 1:"
   ]
  },
  {
   "cell_type": "code",
   "execution_count": 4,
   "id": "ab64ac0f",
   "metadata": {},
   "outputs": [
    {
     "name": "stdout",
     "output_type": "stream",
     "text": [
      "2\n",
      "4\n",
      "8\n",
      "16\n",
      "32\n",
      "64\n",
      "128\n",
      "256\n",
      "512\n",
      "1024\n",
      "2048\n",
      "4096\n",
      "8192\n",
      "16384\n",
      "32768\n",
      "65536\n",
      "131072\n",
      "262144\n",
      "524288\n",
      "1048576\n"
     ]
    }
   ],
   "source": [
    "def powers_of_two():\n",
    "    n = 1\n",
    "    while True:\n",
    "        n *= 2\n",
    "        yield n\n",
    "\n",
    "powers = powers_of_two()\n",
    "for _ in range(20): # You’re looping 20 times, but you don’t care about the actual values from range(20) (which would be 0 to 19).\n",
    "# It’s just a normal variable under the hood, but by convention, it means “I’m intentionally ignoring this.”\n",
    "    print(next(powers))"
   ]
  },
  {
   "cell_type": "markdown",
   "id": "d9d34064",
   "metadata": {},
   "source": [
    "Example 2:"
   ]
  },
  {
   "cell_type": "code",
   "execution_count": 13,
   "id": "a2bb3359",
   "metadata": {},
   "outputs": [
    {
     "name": "stdout",
     "output_type": "stream",
     "text": [
      "2\n",
      "4\n",
      "6\n"
     ]
    }
   ],
   "source": [
    "def even_n(max_n = 1):\n",
    "    n = 1\n",
    "\n",
    "    while n <= max_n:\n",
    "        yield n * 2\n",
    "\n",
    "        n += 1\n",
    "i = even_n(3)\n",
    "\n",
    "print(next(i))\n",
    "print(next(i))\n",
    "print(next(i))"
   ]
  }
 ],
 "metadata": {
  "kernelspec": {
   "display_name": "Python 3",
   "language": "python",
   "name": "python3"
  },
  "language_info": {
   "codemirror_mode": {
    "name": "ipython",
    "version": 3
   },
   "file_extension": ".py",
   "mimetype": "text/x-python",
   "name": "python",
   "nbconvert_exporter": "python",
   "pygments_lexer": "ipython3",
   "version": "3.13.2"
  }
 },
 "nbformat": 4,
 "nbformat_minor": 5
}

{
 "cells": [
  {
   "cell_type": "markdown",
   "id": "6a658936",
   "metadata": {},
   "source": [
    "Question Statement 3:\n",
    "\n",
    "You are given a list of sentences, and your task is to implement a Python iterator that iterates over each word in the sentences."
   ]
  },
  {
   "cell_type": "code",
   "execution_count": null,
   "id": "ba68a43d",
   "metadata": {},
   "outputs": [
    {
     "name": "stdout",
     "output_type": "stream",
     "text": [
      "Hello, how are you?\n",
      "I hope you are doing well.\n"
     ]
    },
    {
     "ename": "AttributeError",
     "evalue": "'WordIterator' object has no attribute 'setences'",
     "output_type": "error",
     "traceback": [
      "\u001b[31m---------------------------------------------------------------------------\u001b[39m",
      "\u001b[31mAttributeError\u001b[39m                            Traceback (most recent call last)",
      "\u001b[36mCell\u001b[39m\u001b[36m \u001b[39m\u001b[32mIn[23]\u001b[39m\u001b[32m, line 35\u001b[39m\n\u001b[32m     32\u001b[39m word_iterator = WordIterator(sentences_list)\n\u001b[32m     34\u001b[39m \u001b[38;5;66;03m# Iterating over the words\u001b[39;00m\n\u001b[32m---> \u001b[39m\u001b[32m35\u001b[39m \u001b[38;5;28;43;01mfor\u001b[39;49;00m\u001b[43m \u001b[49m\u001b[43mword\u001b[49m\u001b[43m \u001b[49m\u001b[38;5;129;43;01min\u001b[39;49;00m\u001b[43m \u001b[49m\u001b[43mword_iterator\u001b[49m\u001b[43m:\u001b[49m\n\u001b[32m     36\u001b[39m \u001b[43m    \u001b[49m\u001b[38;5;28;43mprint\u001b[39;49m\u001b[43m(\u001b[49m\u001b[43mword\u001b[49m\u001b[43m)\u001b[49m\n",
      "\u001b[36mCell\u001b[39m\u001b[36m \u001b[39m\u001b[32mIn[23]\u001b[39m\u001b[32m, line 21\u001b[39m, in \u001b[36mWordIterator.__next__\u001b[39m\u001b[34m(self)\u001b[39m\n\u001b[32m     18\u001b[39m     \u001b[38;5;28;01mraise\u001b[39;00m \u001b[38;5;167;01mStopIteration\u001b[39;00m\n\u001b[32m     20\u001b[39m \u001b[38;5;66;03m#get the setences list\u001b[39;00m\n\u001b[32m---> \u001b[39m\u001b[32m21\u001b[39m current_word = \u001b[38;5;28;43mself\u001b[39;49m\u001b[43m.\u001b[49m\u001b[43msetences\u001b[49m[\u001b[38;5;28mself\u001b[39m.index]\n\u001b[32m     22\u001b[39m \u001b[38;5;66;03m#Move the index foward\u001b[39;00m\n\u001b[32m     23\u001b[39m \u001b[38;5;28mself\u001b[39m.index += \u001b[32m1\u001b[39m\n",
      "\u001b[31mAttributeError\u001b[39m: 'WordIterator' object has no attribute 'setences'"
     ]
    }
   ],
   "source": [
    "# Create the WordIterator class\n",
    "class WordIterator:\n",
    "    def __init__(self, sentences):\n",
    "        #initialize the sentences list  \n",
    "        self.sentences = sentences_list\n",
    "        #start the index at the beginning of the list\n",
    "        self.index = 0\n",
    "\n",
    "    def __iter__(self):\n",
    "    #the iterator should return itself\n",
    "        return self\n",
    "\n",
    "    def __next__(self):\n",
    "    \n",
    "    #if there are no more elements, raise StopIteration\n",
    "    #meaning to stop at last element\n",
    "        if self.index >= len(self.sentences):\n",
    "            raise StopIteration\n",
    "        \n",
    "        #get the setences list\n",
    "        current_word = self.setences[self.index]\n",
    "        #Move the index foward\n",
    "        self.index += 1\n",
    "        return current_setence\n",
    "\n",
    "# Example list of sentences\n",
    "sentences_list = [\"Hello, how are you?\", \"I hope you are doing well.\"]\n",
    "# i need a function to make the words in the list easier to deal.\n",
    "#I'm not sure what function that brings them together\n",
    "\n",
    "# Creating a WordIterator\n",
    "word_iterator = WordIterator(sentences_list)\n",
    "\n",
    "# Iterating over the words\n",
    "for word in word_iterator:\n",
    "    print(word)"
   ]
  }
 ],
 "metadata": {
  "kernelspec": {
   "display_name": "Python 3",
   "language": "python",
   "name": "python3"
  },
  "language_info": {
   "codemirror_mode": {
    "name": "ipython",
    "version": 3
   },
   "file_extension": ".py",
   "mimetype": "text/x-python",
   "name": "python",
   "nbconvert_exporter": "python",
   "pygments_lexer": "ipython3",
   "version": "3.13.2"
  }
 },
 "nbformat": 4,
 "nbformat_minor": 5
}

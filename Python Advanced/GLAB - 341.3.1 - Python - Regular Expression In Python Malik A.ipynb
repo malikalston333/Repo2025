{
 "cells": [
  {
   "cell_type": "markdown",
   "id": "13b9308e",
   "metadata": {},
   "source": [
    "Example 1: findall()\n",
    "import re\n",
    "# creating a pattern and Compile the regular expression pattern\n",
    "pattern = re.compile(r'\\b\\w{5,}\\b')\n",
    "#After compiling the pattern,\n",
    "#you can use the findall() method to find all occurrences of the pattern in a given string.\n",
    "text = \"Hello, world! The sky is blue, and the sun is shining.\"\n",
    "\n",
    "matches = pattern.findall(text)\n",
    "\n",
    "for match in matches:\n",
    "    print(match)\n",
    "\n",
    "Hello\n",
    "world\n",
    "shining"
   ]
  },
  {
   "cell_type": "markdown",
   "id": "51e990f9",
   "metadata": {},
   "source": [
    "Example 1."
   ]
  },
  {
   "cell_type": "code",
   "execution_count": null,
   "id": "4b7d8e51",
   "metadata": {},
   "outputs": [
    {
     "name": "stdout",
     "output_type": "stream",
     "text": [
      "Hey\n",
      "diddle\n",
      "diddle\n",
      "The\n",
      "cat\n",
      "and\n",
      "the\n",
      "fiddle\n",
      "The\n",
      "cow\n",
      "jumped\n",
      "over\n",
      "the\n",
      "moon\n"
     ]
    }
   ],
   "source": [
    "import re # regex most be imported\n",
    "pattern = re.compile(r'\\b\\w{3,}\\b') # pattern established\n",
    "# \\b creates boundary \n",
    "# \\w looks for any alpanumeric\n",
    "#{3} looks for 3 words if comma after then looks for 3 or more unless specified\n",
    "# \\b finishes boundary\n",
    "text = \"Hey, diddle, diddle,The cat and the fiddle,The cow jumped over the moon\" # actually text to be searched \n",
    "matches = pattern.findall(text) # look through pattern using findall\n",
    "\n",
    "for matches in matches:\n",
    "    print(matches)"
   ]
  },
  {
   "cell_type": "markdown",
   "id": "c7a77892",
   "metadata": {},
   "source": [
    "import re\n",
    "\n",
    "# Compile the regular expression pattern\n",
    "pattern = re.compile(r'\\b[A-Za-z0-9._%+-]+\\b')\n",
    "\n",
    "# target string\n",
    "text = \"Contact me at john.doe@example.com or jane.doe@example.com for more information.\"\n",
    "\n",
    "# Find all matches of the pattern in the test string\n",
    "matches = pattern.findall(text)\n",
    "\n",
    "# Print the matches\n",
    "for match in matches:\n",
    "    print(match)"
   ]
  },
  {
   "cell_type": "markdown",
   "id": "4dfc96a8",
   "metadata": {},
   "source": [
    "Example 2."
   ]
  },
  {
   "cell_type": "code",
   "execution_count": null,
   "id": "73affdf9",
   "metadata": {},
   "outputs": [
    {
     "name": "stdout",
     "output_type": "stream",
     "text": [
      "boothmaster98\n",
      "hotmail.com\n",
      "or\n",
      "boothmaster9\n",
      "aol.com\n"
     ]
    }
   ],
   "source": [
    "import re\n",
    "\n",
    "# Compile the regular expression pattern\n",
    "pattern = re.compile(r'\\b[A-Za-z0-9._%+-]+\\b')\n",
    "# \\b creates boundary \n",
    "# [] encloses evetything in the bracket\n",
    "# target string\n",
    "# A-Z possibility of Uppercase\n",
    "# a-z possibility of lowercase\n",
    "# 0-9 matches only digits (can be more than one number)\n",
    "# . matches any single character\n",
    "# _%+- can match any of these characters\n",
    "# + after closing bracket means that can occur one or more times.\n",
    "\n",
    "#text = \"Contact me at john.doe@example.com or jane.doe@example.com for more information.\"\n",
    "text2 = 'boothmaster98@hotmail.com or boothmaster9@aol.com'\n",
    "\n",
    "# Find all matches of the pattern in the test string\n",
    "matches = pattern.findall(text2)\n",
    "\n",
    "# Print the matches\n",
    "for match in matches:\n",
    "    print(match)"
   ]
  },
  {
   "cell_type": "markdown",
   "id": "1c8cd1b3",
   "metadata": {},
   "source": [
    "Example 3: findall()\n",
    "In this example, we will match all the email addresses in a string using a regular expression pattern."
   ]
  },
  {
   "cell_type": "code",
   "execution_count": 20,
   "id": "eae4fa4c",
   "metadata": {},
   "outputs": [
    {
     "name": "stdout",
     "output_type": "stream",
     "text": [
      "john.doe@example.com\n",
      "jane.doe@example.com\n"
     ]
    }
   ],
   "source": [
    "import re\n",
    "\n",
    "# Our original string\n",
    "text = \"Contact me at john.doe@example.com or jane.doe@example.com for more information.\"\n",
    "\n",
    "# The regular expression pattern to search for\n",
    "pattern = re.compile(r'\\b[A-Za-z0-9._%+-]+@[A-Za-z0-9.-]+\\.[A-Z|a-z]{2,}\\b')\\\n",
    "# A-Z possibility of Uppercase\n",
    "# a-z possibility of lowercase\n",
    "# 0-9 matches only digits (can be more than one number)\n",
    "\n",
    "# Use the findall() function to find all matches in the string\n",
    "matches = re.findall(pattern, text)\n",
    "\n",
    "for match in matches:\n",
    "    print(match)"
   ]
  },
  {
   "cell_type": "markdown",
   "id": "7fa5fb77",
   "metadata": {},
   "source": [
    "Basic Examples\n",
    "Joke: what do you call a pig with three eyes? piiig!\n",
    "\n",
    "The basic rules of regular expression search for a pattern within a string are:\n",
    "\n",
    "The search proceeds through the string from start to end, stopping at the first match found All of the pattern must be matched, but not all of the string If match = re.search(pat, str) is successful, match is not None and in particular match.group() is the matching text"
   ]
  },
  {
   "cell_type": "code",
   "execution_count": 21,
   "id": "d8768984",
   "metadata": {},
   "outputs": [
    {
     "name": "stdout",
     "output_type": "stream",
     "text": [
      "<re.Match object; span=(1, 4), match='iii'>\n",
      "None\n",
      "<re.Match object; span=(2, 5), match='iig'>\n",
      "<re.Match object; span=(1, 4), match='123'>\n",
      "<re.Match object; span=(2, 5), match='abc'>\n"
     ]
    }
   ],
   "source": [
    "import re\n",
    " ## Search for pattern 'iii' in string 'piiig'.\n",
    "  ## All of the pattern must match, but it may appear anywhere.\n",
    "  ## On success, match.group() is matched text.\n",
    "match_one = re.search(r'iii', 'piiig') # found, match.group() == \"iii\"\n",
    "print(match_one)\n",
    "match_two = re.search(r'igs', 'piiig') # not found, match == None\n",
    "print(match_two)\n",
    "  ## . = any char but \\n\n",
    "match_three = re.search(r'..g', 'piiig') # found, match.group() == \"iig\"\n",
    "print(match_three)\n",
    "  ## \\d = digit char, \\w = word char\n",
    "match_four = re.search(r'\\d\\d\\d', 'p123g') # found, match.group() == \"123\"\n",
    "print(match_four)\n",
    "match_five = re.search(r'\\w\\w\\w', '@@abcd!!') # found, match.group() == \"abc\"\n",
    "print(match_five)"
   ]
  },
  {
   "cell_type": "markdown",
   "id": "379fdea9",
   "metadata": {},
   "source": [
    "Example 5: Grouping with search()\n",
    "We can use parentheses to group sub-patterns in a regex pattern."
   ]
  },
  {
   "cell_type": "code",
   "execution_count": null,
   "id": "17d85de7",
   "metadata": {},
   "outputs": [],
   "source": [
    "text = \"Python is an interpreted high-level programming language for general-purpose programming.\"\n",
    "pattern = \"is (an|the) interpreted\"\n",
    "\n",
    "match = re.search(pattern, text)\n",
    "\n",
    "if match:\n",
    "    print(\"Found a match:\", match.group())\n",
    "else:\n",
    "    print(\"No match found.\")"
   ]
  },
  {
   "cell_type": "markdown",
   "id": "5d3684be",
   "metadata": {},
   "source": [
    "Example 6: Match Phone Number pattern"
   ]
  },
  {
   "cell_type": "code",
   "execution_count": null,
   "id": "43cc2b27",
   "metadata": {},
   "outputs": [],
   "source": [
    "pattern = re.compile(r'\\d{3}-\\d{3}-\\d{4}')"
   ]
  },
  {
   "cell_type": "markdown",
   "id": "b06d6a50",
   "metadata": {},
   "source": [
    "Search for a pattern match in a string. Once you have a compiled regular expression pattern, you can use it to search for matches in a string.\n",
    "\n",
    "The search() method searches the string for a match."
   ]
  },
  {
   "cell_type": "code",
   "execution_count": null,
   "id": "5300f149",
   "metadata": {},
   "outputs": [],
   "source": [
    "phone_number = \"123-456-7890\"\n",
    "match = pattern.search(phone_number)\n",
    "\n",
    "if match:\n",
    "    print(\"Found a match:\", match.group())\n",
    "else:\n",
    "    print(\"No match found.\")"
   ]
  },
  {
   "cell_type": "markdown",
   "id": "2f9f2079",
   "metadata": {},
   "source": [
    "The match() method also searches the string for a match, but it only checks at the beginning of the string."
   ]
  },
  {
   "cell_type": "code",
   "execution_count": null,
   "id": "6aeb97b1",
   "metadata": {},
   "outputs": [],
   "source": [
    "match = pattern.match(phone_number)\n",
    "\n",
    "if match:\n",
    "    print(\"Found a match:\", match.group())\n",
    "else:\n",
    "    print(\"No match found.\")"
   ]
  },
  {
   "cell_type": "markdown",
   "id": "c9ffeacd",
   "metadata": {},
   "source": [
    "Find all pattern matches in a string\n",
    "\n",
    "To find all matches of a pattern in a string, you can use the findall() method."
   ]
  },
  {
   "cell_type": "code",
   "execution_count": null,
   "id": "6dd483fb",
   "metadata": {},
   "outputs": [],
   "source": [
    "text = \"123-456-7890 is a phone number, and 234-567-8901 is another.\"\n",
    "matches = pattern.findall(text)\n",
    "\n",
    "for match in matches:\n",
    "    print(\"Found a match:\", match)"
   ]
  },
  {
   "cell_type": "markdown",
   "id": "aba5f984",
   "metadata": {},
   "source": [
    "Example 7: Emails Example\n",
    "\n",
    "Suppose you want to find the email address inside the string 'xyz alice-b@google.com purple monkey'. We'll use this as a running example to demonstrate more regular expression features. Here's an attempt using the pattern r'\\w+@\\w+':"
   ]
  },
  {
   "cell_type": "code",
   "execution_count": null,
   "id": "7f1eeef1",
   "metadata": {},
   "outputs": [],
   "source": [
    "str = 'purple alice-b@google.com monkey dishwasher'\n",
    "match = re.search(r'\\w+@\\w+', str)\n",
    "if match:\n",
    "  print(match.group())  ## 'b@google'"
   ]
  },
  {
   "cell_type": "markdown",
   "id": "4851b25b",
   "metadata": {},
   "source": [
    "The search does not get the whole email address in this case because the \\w does not match the '-' or '.' in the address. We'll fix this using the regular expression features below."
   ]
  },
  {
   "cell_type": "markdown",
   "id": "746b873c",
   "metadata": {},
   "source": [
    "Square Brackets\n",
    "\n",
    "Square brackets can be used to indicate a set of chars, so [abc] matches 'a' or 'b' or 'c'. The codes \\w, \\s etc. work inside square brackets too with the one exception that dot (.) just means a literal dot. For the emails problem, the square brackets are an easy way to add '.' and '-' to the set of chars which can appear around the @ with the pattern r'[\\w.-]+@[\\w.-]+' to get the whole email address:"
   ]
  },
  {
   "cell_type": "code",
   "execution_count": null,
   "id": "2e5e7a20",
   "metadata": {},
   "outputs": [],
   "source": [
    "match = re.search(r'[\\w.-]+@[\\w.-]+', str)\n",
    "if match:\n",
    "  print(match.group())  ## 'alice-b@google.com'"
   ]
  },
  {
   "cell_type": "markdown",
   "id": "8d9891c6",
   "metadata": {},
   "source": [
    "(More square-bracket features) You can also use a dash to indicate a range, so [a-z] matches all lowercase letters. To use a dash without indicating a range, put the dash last, e.g. [abc-]. An up-hat (^) at the start of a square-bracket set inverts it, so [^ab] means any char except 'a' or 'b'."
   ]
  },
  {
   "cell_type": "markdown",
   "id": "5ad84b60",
   "metadata": {},
   "source": [
    "Group Extraction\n",
    "\n",
    "The \"group\" feature of a regular expression allows you to pick out parts of the matching text. Suppose for the emails problem that we want to extract the username and host separately. To do this, add parentheses ( ) around the username and host in the pattern, like this: r'([\\w.-]+)@([\\w.-]+)'. In this case, the parentheses do not change what the pattern will match, instead they establish logical \"groups\" inside of the match text. On a successful search, match.group(1) is the match text corresponding to the 1st left parentheses, and match.group(2) is the text corresponding to the 2nd left parentheses. The plain match.group() is still the whole match text as usual."
   ]
  },
  {
   "cell_type": "code",
   "execution_count": null,
   "id": "ea67ce5e",
   "metadata": {},
   "outputs": [],
   "source": [
    "str = 'purple alice-b@google.com monkey dishwasher'\n",
    "match = re.search(r'([\\w.-]+)@([\\w.-]+)', str)\n",
    "if match:\n",
    "    print(match.group())   ## 'alice-b@google.com' (the whole match)\n",
    "    print(match.group(1))  ## 'alice-b' (the username, group 1)\n",
    "    print(match.group(2))  ## 'google.com' (the host, group 2)"
   ]
  },
  {
   "cell_type": "markdown",
   "id": "478b192d",
   "metadata": {},
   "source": [
    "A common workflow with regular expressions is that you write a pattern for the thing you are looking for, adding parentheses groups to extract the parts you want."
   ]
  },
  {
   "cell_type": "markdown",
   "id": "95f45095",
   "metadata": {},
   "source": [
    "Example 8: findall and Groups\n",
    "\n",
    "The parentheses ( ) group mechanism can be combined with findall(). If the pattern includes 2 or more parentheses groups, then instead of returning a list of strings, findall() returns a list of tuples. Each tuple represents one match of the pattern, and inside the tuple is the group(1), group(2) .. data. So if 2 parentheses groups are added to the email pattern, then findall() returns a list of tuples, each length 2 containing the username and host, e.g. ('alice', 'google.com')."
   ]
  },
  {
   "cell_type": "code",
   "execution_count": null,
   "id": "f14e53a6",
   "metadata": {},
   "outputs": [],
   "source": [
    "str = 'purple alice@google.com, blah monkey bob@abc.com blah dishwasher'\n",
    "tuples = re.findall(r'([\\w\\.-]+)@([\\w\\.-]+)', str)\n",
    "print(tuples)  ## [('alice', 'google.com'), ('bob', 'abc.com')]\n",
    "for tuple in tuples:\n",
    "  print(tuple[0])  ## username\n",
    "  print(tuple[1])  ## host"
   ]
  },
  {
   "cell_type": "markdown",
   "id": "58257f5c",
   "metadata": {},
   "source": [
    "Once you have the list of tuples, you can loop over it to do some computation for each tuple. If the pattern includes no parentheses, then findall() returns a list of found strings as in earlier examples. If the pattern includes a single set of parentheses, then findall() returns a list of strings corresponding to that single group. (Obscure optional feature: Sometimes you have paren ( ) groupings in the pattern, but which you do not want to extract. In that case, write the parens with a ?: at the start, e.g. (?: ) and that left paren will not count as a group result.)"
   ]
  }
 ],
 "metadata": {
  "kernelspec": {
   "display_name": "Python 3",
   "language": "python",
   "name": "python3"
  },
  "language_info": {
   "codemirror_mode": {
    "name": "ipython",
    "version": 3
   },
   "file_extension": ".py",
   "mimetype": "text/x-python",
   "name": "python",
   "nbconvert_exporter": "python",
   "pygments_lexer": "ipython3",
   "version": "3.13.2"
  }
 },
 "nbformat": 4,
 "nbformat_minor": 5
}

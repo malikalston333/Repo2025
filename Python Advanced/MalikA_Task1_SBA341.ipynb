{
 "cells": [
  {
   "cell_type": "markdown",
   "id": "6bd5b066",
   "metadata": {},
   "source": [
    "Question Statement 1:\n",
    "\n",
    "You are given a list of numbers. Your task is to complete the function lambdaMap(arr), which performs the following operations:\n",
    "\n",
    "Remove negative numbers from the list.\n",
    "\n",
    "Double the remaining numbers.\n",
    "\n",
    "Your goal is to complete the lambda function inside the given Python script so that it transforms the input list accordingly.\n",
    "\n",
    "Example Expected Input:\n",
    "arr = [-1, 1, 2, -2, 6]\n",
    "\n"
   ]
  },
  {
   "cell_type": "code",
   "execution_count": null,
   "id": "3c14fe62",
   "metadata": {},
   "outputs": [
    {
     "ename": "NameError",
     "evalue": "name 'arr' is not defined",
     "output_type": "error",
     "traceback": [
      "\u001b[31m---------------------------------------------------------------------------\u001b[39m",
      "\u001b[31mNameError\u001b[39m                                 Traceback (most recent call last)",
      "\u001b[36mCell\u001b[39m\u001b[36m \u001b[39m\u001b[32mIn[44]\u001b[39m\u001b[32m, line 10\u001b[39m\n\u001b[32m      8\u001b[39m ans = lambdaMap(test)\n\u001b[32m      9\u001b[39m \u001b[38;5;66;03m#right answer but not in right format\u001b[39;00m\n\u001b[32m---> \u001b[39m\u001b[32m10\u001b[39m lambdaMap(\u001b[43marr\u001b[49m)\n",
      "\u001b[31mNameError\u001b[39m: name 'arr' is not defined"
     ]
    }
   ],
   "source": [
    "# First step is to remove the negative numbers from the list we need a filter function to do so\n",
    "def lambdaMap(arr): #defines lambdamap and when calls has the value\n",
    "    ans = list(map(lambda x: x >= 0 * 2, test)) #math is correct\n",
    "    # if x is 0 or greater than times it by 2\n",
    "    return ans\n",
    "\n",
    "test = [-3, -2, -1, 0, 1, 2, 3, 4, 5] #list\n",
    "ans = lambdaMap(test)\n",
    "#right answer but not in right format"
   ]
  },
  {
   "cell_type": "code",
   "execution_count": 37,
   "id": "0a59b08a",
   "metadata": {},
   "outputs": [
    {
     "name": "stdout",
     "output_type": "stream",
     "text": [
      "[1, 4, 9, 16, 25]\n"
     ]
    }
   ],
   "source": [
    "numbers = [1, 2, 3, 4, 5]\n",
    "squared_numbers = list(map(lambda x: x**2, numbers))\n",
    "print(squared_numbers)  # Output: [1, 4, 9, 16, 25]"
   ]
  }
 ],
 "metadata": {
  "kernelspec": {
   "display_name": "Python 3",
   "language": "python",
   "name": "python3"
  },
  "language_info": {
   "codemirror_mode": {
    "name": "ipython",
    "version": 3
   },
   "file_extension": ".py",
   "mimetype": "text/x-python",
   "name": "python",
   "nbconvert_exporter": "python",
   "pygments_lexer": "ipython3",
   "version": "3.13.2"
  }
 },
 "nbformat": 4,
 "nbformat_minor": 5
}

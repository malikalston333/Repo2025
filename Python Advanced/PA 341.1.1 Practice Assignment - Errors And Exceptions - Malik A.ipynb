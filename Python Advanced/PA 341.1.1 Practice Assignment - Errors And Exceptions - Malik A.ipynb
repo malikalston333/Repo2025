{
 "cells": [
  {
   "cell_type": "code",
   "execution_count": null,
   "id": "f4fbf0f2",
   "metadata": {},
   "outputs": [
    {
     "name": "stdout",
     "output_type": "stream",
     "text": [
      "Error Code: integer division or modulo by zero\n"
     ]
    }
   ],
   "source": [
    "try:\n",
    "    num1 = int(input()) #Insert first number for problem\n",
    "    num2 = int(input()) #Enter second number for problem\n",
    "    print(int(num1) // int(num2)) #Math for integer division\n",
    "    \n",
    "except ZeroDivisionError: #If person enters number that's not divisible it will print out below statement\n",
    "    print(\"Error Code: integer division or modulo by zero\")\n",
    "except ValueError: #If person doesn't enter a number the below will statement will show\n",
    "    print(\"Error Code: invalid literal for int() with base 10: '$'\") \n"
   ]
  }
 ],
 "metadata": {
  "kernelspec": {
   "display_name": "Python 3",
   "language": "python",
   "name": "python3"
  },
  "language_info": {
   "codemirror_mode": {
    "name": "ipython",
    "version": 3
   },
   "file_extension": ".py",
   "mimetype": "text/x-python",
   "name": "python",
   "nbconvert_exporter": "python",
   "pygments_lexer": "ipython3",
   "version": "3.13.2"
  }
 },
 "nbformat": 4,
 "nbformat_minor": 5
}

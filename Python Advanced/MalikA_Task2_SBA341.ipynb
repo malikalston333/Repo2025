{
 "cells": [
  {
   "cell_type": "markdown",
   "id": "386ea9f8",
   "metadata": {},
   "source": [
    "Question Statement 2:\n",
    "\n",
    "You are given a string containing only the characters 'a' and 'b'. Your task is to write a regular expression that matches strings where:\n",
    "\n",
    "The string starts and ends with the same character ('a' or 'b').\n",
    "\n",
    "The string can be of any length (including a single character).\n",
    "\n",
    "If the first character is 'a', the last character must also be 'a'.\n",
    "\n",
    "If the first character is 'b', the last character must also be 'b'.\n"
   ]
  },
  {
   "cell_type": "code",
   "execution_count": null,
   "id": "af3c57fc",
   "metadata": {},
   "outputs": [
    {
     "name": "stdout",
     "output_type": "stream",
     "text": [
      "False\n"
     ]
    }
   ],
   "source": [
    "from re import compile\n",
    "from re import match\n",
    "\n",
    "\n",
    "# Write the regular expression in the blank space below\n",
    "regularExpression = r'[a|b+$]\n",
    "#^ start with\n",
    "#a|b a or b\n",
    "#$ end with\n",
    "#I can't seem to figure out how to exclude ab and baba i tried using [^] and [?!]\n",
    "\n",
    "# Test your regular expression.\n",
    "pattern = compile(regularExpression)\n",
    "if pattern.match('bbb'):\n",
    "    print(\"True\")\n",
    "else:\n",
    "    print(\"False\")"
   ]
  }
 ],
 "metadata": {
  "kernelspec": {
   "display_name": "Python 3",
   "language": "python",
   "name": "python3"
  },
  "language_info": {
   "codemirror_mode": {
    "name": "ipython",
    "version": 3
   },
   "file_extension": ".py",
   "mimetype": "text/x-python",
   "name": "python",
   "nbconvert_exporter": "python",
   "pygments_lexer": "ipython3",
   "version": "3.13.2"
  }
 },
 "nbformat": 4,
 "nbformat_minor": 5
}

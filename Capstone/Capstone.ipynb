{
 "cells": [
  {
   "cell_type": "markdown",
   "id": "9b7f9be3",
   "metadata": {},
   "source": [
    "1.1 \n",
    "\n",
    "For “Credit Card System,” create a Python and PySpark SQL program to read/extract the following JSON files according to the specifications found in the mapping document."
   ]
  },
  {
   "cell_type": "code",
   "execution_count": 20,
   "id": "982b626a",
   "metadata": {},
   "outputs": [
    {
     "name": "stdout",
     "output_type": "stream",
     "text": [
      "+------+----------------+------------+-------------+--------------------+----------+----------+--------+----------+---------+--------------------+-----------+---------+-----------------+\n",
      "|APT_NO|  CREDIT_CARD_NO|   CUST_CITY| CUST_COUNTRY|          CUST_EMAIL|CUST_PHONE|CUST_STATE|CUST_ZIP|FIRST_NAME|LAST_NAME|        LAST_UPDATED|MIDDLE_NAME|      SSN|      STREET_NAME|\n",
      "+------+----------------+------------+-------------+--------------------+----------+----------+--------+----------+---------+--------------------+-----------+---------+-----------------+\n",
      "|   656|4210653310061055|     Natchez|United States| AHooper@example.com|   1237818|        MS|   39120|      Alec|   Hooper|2018-04-21T12:49:...|         Wm|123456100|Main Street North|\n",
      "|   829|4210653310102868|Wethersfield|United States| EHolman@example.com|   1238933|        CT|   06109|      Etta|   Holman|2018-04-21T12:49:...|    Brendan|123453023|    Redwood Drive|\n",
      "|   683|4210653310116272|     Huntley|United States| WDunham@example.com|   1243018|        IL|   60142|    Wilber|   Dunham|2018-04-21T12:49:...|   Ezequiel|123454487| 12th Street East|\n",
      "|   253|4210653310195948|   NewBerlin|United States|  EHardy@example.com|   1243215|        WI|   53151|   Eugenio|    Hardy|2018-04-21T12:49:...|      Trina|123459758|Country Club Road|\n",
      "|   301|4210653310356919|      ElPaso|United States|  WAyers@example.com|   1242074|        TX|   79930|   Wilfred|    Ayers|2018-04-21T12:49:...|        May|123454431|   Madison Street|\n",
      "|     3|4210653310395982|NorthOlmsted|United States|BWoodard@example.com|   1242570|        OH|   44070|      Beau|  Woodard|2018-04-21T12:49:...|    Ambrose|123454202|   Colonial Drive|\n",
      "|    84|4210653310400536|      Vienna|United States|   SKemp@example.com|   1239685|        VA|   22180|    Sheila|     Kemp|2018-04-21T12:49:...|      Larry|123451799|   Belmont Avenue|\n",
      "|   728|4210653310459911|      Duarte|United States| WHurley@example.com|   1238213|        CA|   91010|     Wendy|   Hurley|2018-04-21T12:49:...|        Ora|123453875|     Oxford Court|\n",
      "|    81|4210653310773972|      Owosso|United States|AGilmore@example.com|   1240689|        MI|   48867|      Alec|  Gilmore|2018-04-21T12:49:...|     Tracie|123457511|    Forest Street|\n",
      "|   561|4210653310794854|        Zion|United States|    BLau@example.com|   1235222|        IL|   60099|    Barbra|      Lau|2018-04-21T12:49:...|    Mitchel|123457464|     Court Street|\n",
      "|   622|4210653310817373|  Youngstown|United States|EThomson@example.com|   1241363|        OH|   44512|   Edmundo|  Thomson|2018-04-21T12:49:...|      Denny|123457639|    Cypress Court|\n",
      "|   924|4210653310844617| Summerville|United States| ETruong@example.com|   1236228|        SC|   29483|      Elsa|   Truong|2018-04-21T12:49:...|   Isabelle|123453242|  8th Street West|\n",
      "|   611|4210653311015303|      ElPaso|United States|HMckinney@example...|   1238165|        TX|   79930|     Homer| Mckinney|2018-04-21T12:49:...|      Henry|123454339|      East Avenue|\n",
      "|   680|4210653311215039|      Fenton|United States|   RKidd@example.com|   1234730|        MI|   48430|      Rita|     Kidd|2018-04-21T12:49:...|     Rickey|123454537|         Route 44|\n",
      "|    71|4210653311229354|  Grandville|United States|ABallard@example.com|   1242113|        MI|   49418|    Amalia|  Ballard|2018-04-21T12:49:...|  Heriberto|123452373|    Warren Street|\n",
      "|   195|4210653311652836|    YubaCity|United States| PThomas@example.com|   1239888|        CA|   95993|     Patty|   Thomas|2018-04-21T12:49:...|   Angelita|123455343|     Jones Street|\n",
      "|   500|4210653311707126|   CapeCoral|United States| JMorrow@example.com|   1240158|        FL|   33904|  Josefina|   Morrow|2018-04-21T12:49:...|   Dorothea|123451533|       New Street|\n",
      "|   989|4210653311730764|  Brookfield|United States|NAndrews@example.com|   1241408|        WI|   53045|    Nelson|  Andrews|2018-04-21T12:49:...|  Jefferson|123459278|  Division Street|\n",
      "|   810|4210653311898082|    Richmond|United States|MSchneider@exampl...|   1238390|        VA|   23223|    Miquel|Schneider|2018-04-21T12:49:...|     Maximo|123456915|     Maple Street|\n",
      "|   649|4210653312021765| WestChester|United States|PTidwell@example.com|   1235067|        PA|   19380|    Parker|  Tidwell|2018-04-21T12:49:...|    Arnulfo|123453807|       Eagle Road|\n",
      "+------+----------------+------------+-------------+--------------------+----------+----------+--------+----------+---------+--------------------+-----------+---------+-----------------+\n",
      "only showing top 20 rows\n",
      "\n"
     ]
    }
   ],
   "source": [
    "import pyspark\n",
    "from pyspark.sql import SparkSession \n",
    "\n",
    "\n",
    "spark = SparkSession.builder.appName('Credit Card Data Loader').getOrCreate()\n",
    "\n",
    "df_branch = spark.read.option(\"multiline\", \"true\").json(r\"C:\\Users\\malik.alston\\Desktop\\Data\\Credit Card Dataset Overview\\cdw_sapp_branch.json\")\n",
    "df_cc = spark.read.option(\"multiline\", \"true\").json(r\"C:\\Users\\malik.alston\\Desktop\\Data\\Credit Card Dataset Overview\\cdw_sapp_credit.json\")\n",
    "df_customer = spark.read.option(\"multiline\", \"true\").json(r\"C:\\Users\\malik.alston\\Desktop\\Data\\Credit Card Dataset Overview\\cdw_sapp_customer.json\")\n",
    "\n",
    "#df_branch.show()\n",
    "#df_cc.show()\n",
    "df_customer.show()\n"
   ]
  },
  {
   "cell_type": "markdown",
   "id": "088517f3",
   "metadata": {},
   "source": [
    "Transform Data"
   ]
  },
  {
   "cell_type": "code",
   "execution_count": 25,
   "id": "f881acba",
   "metadata": {},
   "outputs": [
    {
     "name": "stdout",
     "output_type": "stream",
     "text": [
      "+------+----------------+------------+-------------+--------------------+----------+----------+--------+----------+---------+--------------------+-----------+---------+-----------------+--------------------+\n",
      "|APT_NO|  CREDIT_CARD_NO|   CUST_CITY| CUST_COUNTRY|          CUST_EMAIL|CUST_PHONE|CUST_STATE|CUST_ZIP|FIRST_NAME|LAST_NAME|        LAST_UPDATED|MIDDLE_NAME|      SSN|      STREET_NAME|             ADDRESS|\n",
      "+------+----------------+------------+-------------+--------------------+----------+----------+--------+----------+---------+--------------------+-----------+---------+-----------------+--------------------+\n",
      "|   656|4210653310061055|     Natchez|United States| AHooper@example.com|   1237818|        MS|   39120|      Alec|   Hooper|2018-04-21T12:49:...|         wm|123456100|Main Street North|Main Street North...|\n",
      "|   829|4210653310102868|Wethersfield|United States| EHolman@example.com|   1238933|        CT|   06109|      Etta|   Holman|2018-04-21T12:49:...|    brendan|123453023|    Redwood Drive|   Redwood Drive,829|\n",
      "|   683|4210653310116272|     Huntley|United States| WDunham@example.com|   1243018|        IL|   60142|    Wilber|   Dunham|2018-04-21T12:49:...|   ezequiel|123454487| 12th Street East|12th Street East,683|\n",
      "|   253|4210653310195948|   NewBerlin|United States|  EHardy@example.com|   1243215|        WI|   53151|   Eugenio|    Hardy|2018-04-21T12:49:...|      trina|123459758|Country Club Road|Country Club Road...|\n",
      "|   301|4210653310356919|      ElPaso|United States|  WAyers@example.com|   1242074|        TX|   79930|   Wilfred|    Ayers|2018-04-21T12:49:...|        may|123454431|   Madison Street|  Madison Street,301|\n",
      "|     3|4210653310395982|NorthOlmsted|United States|BWoodard@example.com|   1242570|        OH|   44070|      Beau|  Woodard|2018-04-21T12:49:...|    ambrose|123454202|   Colonial Drive|    Colonial Drive,3|\n",
      "|    84|4210653310400536|      Vienna|United States|   SKemp@example.com|   1239685|        VA|   22180|    Sheila|     Kemp|2018-04-21T12:49:...|      larry|123451799|   Belmont Avenue|   Belmont Avenue,84|\n",
      "|   728|4210653310459911|      Duarte|United States| WHurley@example.com|   1238213|        CA|   91010|     Wendy|   Hurley|2018-04-21T12:49:...|        ora|123453875|     Oxford Court|    Oxford Court,728|\n",
      "|    81|4210653310773972|      Owosso|United States|AGilmore@example.com|   1240689|        MI|   48867|      Alec|  Gilmore|2018-04-21T12:49:...|     tracie|123457511|    Forest Street|    Forest Street,81|\n",
      "|   561|4210653310794854|        Zion|United States|    BLau@example.com|   1235222|        IL|   60099|    Barbra|      Lau|2018-04-21T12:49:...|    mitchel|123457464|     Court Street|    Court Street,561|\n",
      "|   622|4210653310817373|  Youngstown|United States|EThomson@example.com|   1241363|        OH|   44512|   Edmundo|  Thomson|2018-04-21T12:49:...|      denny|123457639|    Cypress Court|   Cypress Court,622|\n",
      "|   924|4210653310844617| Summerville|United States| ETruong@example.com|   1236228|        SC|   29483|      Elsa|   Truong|2018-04-21T12:49:...|   isabelle|123453242|  8th Street West| 8th Street West,924|\n",
      "|   611|4210653311015303|      ElPaso|United States|HMckinney@example...|   1238165|        TX|   79930|     Homer| Mckinney|2018-04-21T12:49:...|      henry|123454339|      East Avenue|     East Avenue,611|\n",
      "|   680|4210653311215039|      Fenton|United States|   RKidd@example.com|   1234730|        MI|   48430|      Rita|     Kidd|2018-04-21T12:49:...|     rickey|123454537|         Route 44|        Route 44,680|\n",
      "|    71|4210653311229354|  Grandville|United States|ABallard@example.com|   1242113|        MI|   49418|    Amalia|  Ballard|2018-04-21T12:49:...|  heriberto|123452373|    Warren Street|    Warren Street,71|\n",
      "|   195|4210653311652836|    YubaCity|United States| PThomas@example.com|   1239888|        CA|   95993|     Patty|   Thomas|2018-04-21T12:49:...|   angelita|123455343|     Jones Street|    Jones Street,195|\n",
      "|   500|4210653311707126|   CapeCoral|United States| JMorrow@example.com|   1240158|        FL|   33904|  Josefina|   Morrow|2018-04-21T12:49:...|   dorothea|123451533|       New Street|      New Street,500|\n",
      "|   989|4210653311730764|  Brookfield|United States|NAndrews@example.com|   1241408|        WI|   53045|    Nelson|  Andrews|2018-04-21T12:49:...|  jefferson|123459278|  Division Street| Division Street,989|\n",
      "|   810|4210653311898082|    Richmond|United States|MSchneider@exampl...|   1238390|        VA|   23223|    Miquel|Schneider|2018-04-21T12:49:...|     maximo|123456915|     Maple Street|    Maple Street,810|\n",
      "|   649|4210653312021765| WestChester|United States|PTidwell@example.com|   1235067|        PA|   19380|    Parker|  Tidwell|2018-04-21T12:49:...|    arnulfo|123453807|       Eagle Road|      Eagle Road,649|\n",
      "+------+----------------+------------+-------------+--------------------+----------+----------+--------+----------+---------+--------------------+-----------+---------+-----------------+--------------------+\n",
      "only showing top 20 rows\n",
      "\n"
     ]
    }
   ],
   "source": [
    "from pyspark.sql.functions import initcap, lower, concat_ws\n",
    "\n",
    "df_customer = df_customer.withColumn(\"FIRST_NAME\", initcap(\"FIRST_NAME\"))\n",
    "df_customer = df_customer.withColumn(\"LAST_NAME\", initcap(\"LAST_NAME\"))\n",
    "df_customer = df_customer.withColumn(\"MIDDLE_NAME\", lower(\"MIDDLE_NAME\"))\n",
    "df_customer = df_customer.withColumn(\"ADDRESS\", concat_ws(\",\", \"STREET_NAME\", \"APT_NO\"))\n",
    "\n",
    "df_customer.show()"
   ]
  },
  {
   "cell_type": "code",
   "execution_count": null,
   "id": "38ff7f90",
   "metadata": {},
   "outputs": [],
   "source": [
    "from pyspark.sql.functions import format_string, col, lpad, lit\n",
    "\n",
    "# Ensure the phone number is 7 digits long as a string\n",
    "df_customer = df_customer.withColumn(\"CUST_PHONE_STR\", lpad(col(\"CUST_PHONE\").cast(\"string\"), 7, \"0\"))\n",
    "\n",
    "# Insert 'XXX' as placeholder for area code\n",
    "df_customer = df_customer.withColumn(\n",
    "    \"PHONE_FORMATTED\",\n",
    "    format_string(\"(%s)%s-%s\",\n",
    "                  lit(\"XXX\"),\n",
    "                  col(\"CUST_PHONE_STR\").substr(1, 3),\n",
    "                  col(\"CUST_PHONE_STR\").substr(4, 4))\n",
    ")\n",
    "\n",
    "df_customer.select(\"CUST_PHONE\", \"PHONE_FORMATTED\").show(truncate=False)\n"
   ]
  }
 ],
 "metadata": {
  "kernelspec": {
   "display_name": "Python 3",
   "language": "python",
   "name": "python3"
  },
  "language_info": {
   "codemirror_mode": {
    "name": "ipython",
    "version": 3
   },
   "file_extension": ".py",
   "mimetype": "text/x-python",
   "name": "python",
   "nbconvert_exporter": "python",
   "pygments_lexer": "ipython3",
   "version": "3.13.2"
  }
 },
 "nbformat": 4,
 "nbformat_minor": 5
}

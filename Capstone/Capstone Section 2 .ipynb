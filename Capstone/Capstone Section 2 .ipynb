{
 "cells": [
  {
   "cell_type": "markdown",
   "id": "53cf6fa7",
   "metadata": {},
   "source": [
    "https://www.edduby.com/tutorial/how-to-make-menu-in-python/?utm_source=chatgpt.com"
   ]
  }
 ],
 "metadata": {
  "kernelspec": {
   "display_name": "Python 3",
   "language": "python",
   "name": "python3"
  },
  "language_info": {
   "name": "python",
   "version": "3.13.2"
  }
 },
 "nbformat": 4,
 "nbformat_minor": 5
}

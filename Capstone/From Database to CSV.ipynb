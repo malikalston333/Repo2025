{
 "cells": [
  {
   "cell_type": "code",
   "execution_count": 4,
   "id": "5ca11ef7",
   "metadata": {},
   "outputs": [],
   "source": [
    "import mysql.connector as dbconnect \n",
    "import csv\n",
    "\n",
    "def load_to_mysql():\n",
    "\n",
    "    conn = dbconnect.connect(\n",
    "        host='localhost',\n",
    "        port=3306,\n",
    "        user='root',\n",
    "        password='password',\n",
    "        database='creditcard_capstone'\n",
    "    )\n",
    "\n",
    "    cursor = conn.cursor()\n",
    "\n",
    "    table_names = [\n",
    "        \"cdw_sapp_customer\",\n",
    "        \"cdw_sapp_branch\",\n",
    "        \"cdw_sapp_credit_card\",\n",
    "        \"cdw_sapp_loan_application\"\n",
    "    ]\n",
    "\n",
    "    for tn in table_names:\n",
    "\n",
    "        cursor.execute(f\"SELECT * FROM {tn}\")\n",
    "        table_contents = cursor.fetchall()\n",
    "\n",
    "        with open(f\"tableau_data/{tn}.csv\", 'w') as f:\n",
    "            writer = csv.writer(f)\n",
    "            column_names = [desc[0] for desc in cursor.description]\n",
    "            writer.writerow(column_names)\n",
    "            writer.writerows(table_contents)\n",
    "\n",
    "load_to_mysql()"
   ]
  }
 ],
 "metadata": {
  "kernelspec": {
   "display_name": "Python 3",
   "language": "python",
   "name": "python3"
  },
  "language_info": {
   "codemirror_mode": {
    "name": "ipython",
    "version": 3
   },
   "file_extension": ".py",
   "mimetype": "text/x-python",
   "name": "python",
   "nbconvert_exporter": "python",
   "pygments_lexer": "ipython3",
   "version": "3.13.2"
  }
 },
 "nbformat": 4,
 "nbformat_minor": 5
}

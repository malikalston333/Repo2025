{
 "cells": [
  {
   "cell_type": "markdown",
   "id": "9b7f9be3",
   "metadata": {},
   "source": [
    "Extract Data 1.1 \n",
    "\n",
    "For “Credit Card System,” create a Python and PySpark SQL program to read/extract the following JSON files according to the specifications found in the mapping document."
   ]
  },
  {
   "cell_type": "code",
   "execution_count": 1,
   "id": "982b626a",
   "metadata": {},
   "outputs": [
    {
     "name": "stdout",
     "output_type": "stream",
     "text": [
      "+-----------+----------------+---------+---+-----+--------------+----------------+-----------------+----+\n",
      "|BRANCH_CODE|  CREDIT_CARD_NO| CUST_SSN|DAY|MONTH|TRANSACTION_ID|TRANSACTION_TYPE|TRANSACTION_VALUE|YEAR|\n",
      "+-----------+----------------+---------+---+-----+--------------+----------------+-----------------+----+\n",
      "|        114|4210653349028689|123459988| 14|    2|             1|       Education|             78.9|2018|\n",
      "|         35|4210653349028689|123459988| 20|    3|             2|   Entertainment|            14.24|2018|\n",
      "|        160|4210653349028689|123459988|  8|    7|             3|         Grocery|             56.7|2018|\n",
      "|        114|4210653349028689|123459988| 19|    4|             4|   Entertainment|            59.73|2018|\n",
      "|         93|4210653349028689|123459988| 10|   10|             5|             Gas|             3.59|2018|\n",
      "|        164|4210653349028689|123459988| 28|    5|             6|       Education|             6.89|2018|\n",
      "|        119|4210653349028689|123459988| 19|    5|             7|   Entertainment|            43.39|2018|\n",
      "|         23|4210653349028689|123459988|  8|    8|             8|             Gas|            95.39|2018|\n",
      "|        166|4210653349028689|123459988| 18|    3|             9|   Entertainment|            93.26|2018|\n",
      "|         83|4210653349028689|123459988|  3|    9|            10|           Bills|           100.38|2018|\n",
      "|         52|4210653349028689|123459988| 21|    8|            11|             Gas|            98.75|2018|\n",
      "|         17|4210653349028689|123459988| 24|   12|            12|             Gas|            42.71|2018|\n",
      "|         80|4210653349028689|123459988|  3|    4|            13|         Grocery|            40.24|2018|\n",
      "|         50|4210653349028689|123459988| 15|    4|            14|           Bills|            17.81|2018|\n",
      "|        123|4210653349028689|123459988| 17|    5|            15|           Bills|             29.0|2018|\n",
      "|          9|4210653349028689|123459988|  6|    7|            16|            Test|            70.63|2018|\n",
      "|          3|4210653349028689|123459988| 28|    9|            17|            Test|            27.04|2018|\n",
      "|        135|4210653349028689|123459988|  4|    7|            18|   Entertainment|            88.75|2018|\n",
      "|        103|4210653349028689|123459988| 24|    4|            19|            Test|            77.02|2018|\n",
      "|         78|4210653349028689|123459988|  8|   10|            20|           Bills|            34.34|2018|\n",
      "+-----------+----------------+---------+---+-----+--------------+----------------+-----------------+----+\n",
      "only showing top 20 rows\n",
      "\n"
     ]
    }
   ],
   "source": [
    "import pyspark\n",
    "from pyspark.sql import SparkSession \n",
    "\n",
    "\n",
    "spark = SparkSession.builder.appName('Credit Card Data Loader').getOrCreate()\n",
    "\n",
    "df_branch = spark.read.option(\"multiline\", \"true\").json(r\"C:\\Users\\malik.alston\\Desktop\\Data\\Credit Card Dataset Overview\\cdw_sapp_branch.json\")\n",
    "df_cc = spark.read.option(\"multiline\", \"true\").json(r\"C:\\Users\\malik.alston\\Desktop\\Data\\Credit Card Dataset Overview\\cdw_sapp_credit.json\")\n",
    "df_customer = spark.read.option(\"multiline\", \"true\").json(r\"C:\\Users\\malik.alston\\Desktop\\Data\\Credit Card Dataset Overview\\cdw_sapp_customer.json\")\n",
    "\n",
    "#df_customer.show()\n",
    "#df_branch.show()\n",
    "df_cc.show()\n"
   ]
  },
  {
   "cell_type": "markdown",
   "id": "088517f3",
   "metadata": {},
   "source": [
    "Transform Data"
   ]
  },
  {
   "cell_type": "code",
   "execution_count": 2,
   "id": "f881acba",
   "metadata": {},
   "outputs": [
    {
     "name": "stdout",
     "output_type": "stream",
     "text": [
      "+-----------+----------------+---------+---+-----+--------------+----------------+-----------------+----+--------+\n",
      "|BRANCH_CODE|  CREDIT_CARD_NO| CUST_SSN|DAY|MONTH|TRANSACTION_ID|TRANSACTION_TYPE|TRANSACTION_VALUE|YEAR|  TIMEID|\n",
      "+-----------+----------------+---------+---+-----+--------------+----------------+-----------------+----+--------+\n",
      "|        114|4210653349028689|123459988| 14|    2|             1|       Education|             78.9|2018|20180214|\n",
      "|         35|4210653349028689|123459988| 20|    3|             2|   Entertainment|            14.24|2018|20180320|\n",
      "|        160|4210653349028689|123459988|  8|    7|             3|         Grocery|             56.7|2018|20180708|\n",
      "|        114|4210653349028689|123459988| 19|    4|             4|   Entertainment|            59.73|2018|20180419|\n",
      "|         93|4210653349028689|123459988| 10|   10|             5|             Gas|             3.59|2018|20181010|\n",
      "|        164|4210653349028689|123459988| 28|    5|             6|       Education|             6.89|2018|20180528|\n",
      "|        119|4210653349028689|123459988| 19|    5|             7|   Entertainment|            43.39|2018|20180519|\n",
      "|         23|4210653349028689|123459988|  8|    8|             8|             Gas|            95.39|2018|20180808|\n",
      "|        166|4210653349028689|123459988| 18|    3|             9|   Entertainment|            93.26|2018|20180318|\n",
      "|         83|4210653349028689|123459988|  3|    9|            10|           Bills|           100.38|2018|20180903|\n",
      "|         52|4210653349028689|123459988| 21|    8|            11|             Gas|            98.75|2018|20180821|\n",
      "|         17|4210653349028689|123459988| 24|   12|            12|             Gas|            42.71|2018|20181224|\n",
      "|         80|4210653349028689|123459988|  3|    4|            13|         Grocery|            40.24|2018|20180403|\n",
      "|         50|4210653349028689|123459988| 15|    4|            14|           Bills|            17.81|2018|20180415|\n",
      "|        123|4210653349028689|123459988| 17|    5|            15|           Bills|             29.0|2018|20180517|\n",
      "|          9|4210653349028689|123459988|  6|    7|            16|            Test|            70.63|2018|20180706|\n",
      "|          3|4210653349028689|123459988| 28|    9|            17|            Test|            27.04|2018|20180928|\n",
      "|        135|4210653349028689|123459988|  4|    7|            18|   Entertainment|            88.75|2018|20180704|\n",
      "|        103|4210653349028689|123459988| 24|    4|            19|            Test|            77.02|2018|20180424|\n",
      "|         78|4210653349028689|123459988|  8|   10|            20|           Bills|            34.34|2018|20181008|\n",
      "+-----------+----------------+---------+---+-----+--------------+----------------+-----------------+----+--------+\n",
      "only showing top 20 rows\n",
      "\n"
     ]
    }
   ],
   "source": [
    "from pyspark.sql.functions import initcap, lower, concat_ws, format_string, col, lpad, lit, concat, when\n",
    "\n",
    "df_customer = df_customer.withColumn(\"FIRST_NAME\", initcap(\"FIRST_NAME\"))\n",
    "df_customer = df_customer.withColumn(\"LAST_NAME\", initcap(\"LAST_NAME\"))\n",
    "df_customer = df_customer.withColumn(\"MIDDLE_NAME\", lower(\"MIDDLE_NAME\"))\n",
    "df_customer = df_customer.withColumn(\"ADDRESS\", concat_ws(\",\", \"STREET_NAME\", \"APT_NO\"))\n",
    "df_customer = df_customer.withColumn(\"CUST_PHONE\",concat(lit(\"(XXX)\"),col(\"CUST_PHONE\").substr(1, 3),lit(\"-\"),col(\"CUST_PHONE\").substr(4, 4)))\n",
    "\n",
    "df_branch = df_branch.withColumn(\"BRANCH_PHONE\",concat(lit(\"(XXX)\"),col(\"BRANCH_PHONE\").substr(1, 3),lit(\"-\"),col(\"BRANCH_PHONE\").substr(4, 4)))\n",
    "df_branch = df_branch.withColumn(\"BRANCH_ZIP\", when(col(\"BRANCH_ZIP\").isNull(), lit(\"99999\")).otherwise(col(\"BRANCH_ZIP\")))\n",
    "\n",
    "df_cc = df_cc.withColumn(\"TIMEID\", format_string(\"%04d%02d%02d\", col(\"YEAR\"), col(\"MONTH\"), col(\"DAY\")))\n",
    "\n",
    "df_cc.show()"
   ]
  },
  {
   "cell_type": "markdown",
   "id": "650b4457",
   "metadata": {},
   "source": [
    "Load Data 1.2"
   ]
  },
  {
   "cell_type": "code",
   "execution_count": 10,
   "id": "261fca16",
   "metadata": {},
   "outputs": [
    {
     "name": "stdout",
     "output_type": "stream",
     "text": [
      "✅ All DataFrames transferred to MySQL successfully.\n"
     ]
    }
   ],
   "source": [
    "mysql_url = \"jdbc:mysql://localhost:3306/creditcard_capstone\"\n",
    "\n",
    "mysql_config = {\n",
    "    \"user\": \"root\",\n",
    "    \"password\": \"password\",\n",
    "    \"driver\": \"com.mysql.cj.jdbc.Driver\"\n",
    "}\n",
    "\n",
    "# CDW_SAPP_CUSTOMER\n",
    "df_customer.write.jdbc(\n",
    "    url=mysql_url,\n",
    "    table=\"CDW_SAPP_CUSTOMER\",\n",
    "    mode=\"append\",  # use 'append' if you want to preserve existing data\n",
    "    properties=mysql_config\n",
    ")\n",
    "\n",
    "# CDW_SAPP_BRANCH\n",
    "df_branch.write.jdbc(\n",
    "    url=mysql_url,\n",
    "    table=\"CDW_SAPP_BRANCH\",\n",
    "    mode=\"append\",\n",
    "    properties=mysql_config\n",
    ")\n",
    "\n",
    "# CDW_SAPP_CREDIT_CARD\n",
    "df_cc.write.jdbc(\n",
    "    url=mysql_url,\n",
    "    table=\"CDW_SAPP_CREDIT_CARD\",\n",
    "    mode=\"append\",\n",
    "    properties=mysql_config\n",
    ")\n",
    "\n",
    "print(\"✅ All DataFrames transferred to MySQL successfully.\")"
   ]
  },
  {
   "cell_type": "markdown",
   "id": "2dbc02ce",
   "metadata": {},
   "source": [
    "df_customer.printSchema()\n",
    "df_branch.printSchema()\n",
    "df_cc.printSchema()"
   ]
  },
  {
   "cell_type": "markdown",
   "id": "a16097aa",
   "metadata": {},
   "source": [
    "CREATE TABLE CDW_SAPP_CUSTOMER (\n",
    "    APT_NO VARCHAR(10),\n",
    "    CREDIT_CARD_NO VARCHAR(20),\n",
    "    CUST_CITY VARCHAR(50),\n",
    "    CUST_COUNTRY VARCHAR(50),\n",
    "    CUST_EMAIL VARCHAR(100),\n",
    "    CUST_PHONE VARCHAR(20),\n",
    "    CUST_STATE VARCHAR(50),\n",
    "    CUST_ZIP VARCHAR(10),\n",
    "    FIRST_NAME VARCHAR(50),\n",
    "    LAST_NAME VARCHAR(50),\n",
    "    LAST_UPDATED VARCHAR(50),\n",
    "    MIDDLE_NAME VARCHAR(50),\n",
    "    SSN BIGINT PRIMARY KEY,\n",
    "    STREET_NAME VARCHAR(100),\n",
    "    ADDRESS VARCHAR(200) NOT NULL\n",
    ");\n"
   ]
  },
  {
   "cell_type": "markdown",
   "id": "c2451fc8",
   "metadata": {},
   "source": [
    "CREATE TABLE CDW_SAPP_BRANCH (\n",
    "    BRANCH_CITY VARCHAR(50),\n",
    "    BRANCH_CODE BIGINT PRIMARY KEY,\n",
    "    BRANCH_NAME VARCHAR(100),\n",
    "    BRANCH_PHONE VARCHAR(20),\n",
    "    BRANCH_STATE VARCHAR(50),\n",
    "    BRANCH_STREET VARCHAR(100),\n",
    "    BRANCH_ZIP VARCHAR(10),\n",
    "    LAST_UPDATED VARCHAR(50)\n",
    ");\n"
   ]
  },
  {
   "cell_type": "markdown",
   "id": "ee29542d",
   "metadata": {},
   "source": [
    "CREATE TABLE CDW_SAPP_CREDIT_CARD (\n",
    "    BRANCH_CODE BIGINT,\n",
    "    CREDIT_CARD_NO VARCHAR(20),\n",
    "    CUST_SSN BIGINT,\n",
    "    DAY INT,\n",
    "    MONTH INT,\n",
    "    TRANSACTION_ID BIGINT PRIMARY KEY,\n",
    "    TRANSACTION_TYPE VARCHAR(50),\n",
    "    TRANSACTION_VALUE DOUBLE,\n",
    "    YEAR INT,\n",
    "    TIMEID VARCHAR(20) NOT NULL\n",
    ");\n"
   ]
  }
 ],
 "metadata": {
  "kernelspec": {
   "display_name": "Python 3",
   "language": "python",
   "name": "python3"
  },
  "language_info": {
   "codemirror_mode": {
    "name": "ipython",
    "version": 3
   },
   "file_extension": ".py",
   "mimetype": "text/x-python",
   "name": "python",
   "nbconvert_exporter": "python",
   "pygments_lexer": "ipython3",
   "version": "3.13.2"
  }
 },
 "nbformat": 4,
 "nbformat_minor": 5
}
